{
 "cells": [
  {
   "cell_type": "code",
   "execution_count": 1,
   "id": "cc8f5af4-b7c4-4f34-8b86-fd2c81eb6d06",
   "metadata": {},
   "outputs": [],
   "source": [
    "import sympy as sp"
   ]
  },
  {
   "cell_type": "code",
   "execution_count": 2,
   "id": "42f3d225-854a-41b3-bd89-3ec45158aa44",
   "metadata": {},
   "outputs": [],
   "source": [
    "#Sparing med ett beløp:\n",
    "def account_balance(x,r,T):\n",
    "    return x*(1+r)**T\n",
    "# x=innskuddet, r=rente og T antall år"
   ]
  },
  {
   "cell_type": "code",
   "execution_count": 3,
   "id": "6eef2600-4803-422f-9486-5719d72b8920",
   "metadata": {},
   "outputs": [
    {
     "data": {
      "text/plain": [
       "6016.548084227714"
      ]
     },
     "execution_count": 3,
     "metadata": {},
     "output_type": "execute_result"
    }
   ],
   "source": [
    "# Om renten på innskuddet er 5%=0.05 og innskuddet er 2500, så er beløpet om 18 år dermed:\n",
    "account_balance(2500,0.05,18)\n"
   ]
  },
  {
   "cell_type": "code",
   "execution_count": 7,
   "id": "b2b26cc2-b89c-4574-9e89-90cc9b649af4",
   "metadata": {},
   "outputs": [
    {
     "ename": "NameError",
     "evalue": "name 'T' is not defined",
     "output_type": "error",
     "traceback": [
      "\u001b[0;31m---------------------------------------------------------------------------\u001b[0m",
      "\u001b[0;31mNameError\u001b[0m                                 Traceback (most recent call last)",
      "\u001b[0;32m/tmp/ipykernel_190488/1839153134.py\u001b[0m in \u001b[0;36m<module>\u001b[0;34m\u001b[0m\n\u001b[1;32m      1\u001b[0m \u001b[0;31m# Hvor mange år før fordobling når renten er 4,5 % = 0.045\u001b[0m\u001b[0;34m\u001b[0m\u001b[0;34m\u001b[0m\u001b[0;34m\u001b[0m\u001b[0m\n\u001b[0;32m----> 2\u001b[0;31m \u001b[0myears\u001b[0m\u001b[0;34m=\u001b[0m \u001b[0;36m1.045\u001b[0m\u001b[0;34m**\u001b[0m\u001b[0mT\u001b[0m \u001b[0;34m-\u001b[0m \u001b[0;36m2\u001b[0m\u001b[0;34m\u001b[0m\u001b[0;34m\u001b[0m\u001b[0m\n\u001b[0m\u001b[1;32m      3\u001b[0m \u001b[0myears\u001b[0m\u001b[0;34m\u001b[0m\u001b[0;34m\u001b[0m\u001b[0m\n\u001b[1;32m      4\u001b[0m \u001b[0;34m\u001b[0m\u001b[0m\n\u001b[1;32m      5\u001b[0m \u001b[0;31m# x=innskuddet, r=rente og T antall år\u001b[0m\u001b[0;34m\u001b[0m\u001b[0;34m\u001b[0m\u001b[0;34m\u001b[0m\u001b[0m\n",
      "\u001b[0;31mNameError\u001b[0m: name 'T' is not defined"
     ]
    }
   ],
   "source": [
    "# Hvor mange år før fordobling når renten er 4,5 % = 0.045\n",
    "\n",
    "years= 1.045**T - 2\n",
    "years\n",
    "\n",
    "# x=innskuddet, r=rente og T antall år"
   ]
  }
 ],
 "metadata": {
  "kernelspec": {
   "display_name": "Python 3 (ipykernel)",
   "language": "python",
   "name": "python3"
  },
  "language_info": {
   "codemirror_mode": {
    "name": "ipython",
    "version": 3
   },
   "file_extension": ".py",
   "mimetype": "text/x-python",
   "name": "python",
   "nbconvert_exporter": "python",
   "pygments_lexer": "ipython3",
   "version": "3.9.5"
  }
 },
 "nbformat": 4,
 "nbformat_minor": 5
}
