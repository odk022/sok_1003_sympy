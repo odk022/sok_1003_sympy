{
 "cells": [
  {
   "cell_type": "code",
   "execution_count": 1,
   "id": "c2e05b3a-d415-495e-827e-25aaec657940",
   "metadata": {},
   "outputs": [],
   "source": [
    "# Modul 15, Oppgave 1a\n",
    "# (1) 2x+ 4y= 6\n",
    "# (2) −2x+y= 4\n"
   ]
  },
  {
   "cell_type": "code",
   "execution_count": 2,
   "id": "0ef0151f-7752-46a3-bb5e-07dfa70f2f11",
   "metadata": {},
   "outputs": [],
   "source": [
    "import sympy as sp\n",
    "x,y=sp.symbols('x y')"
   ]
  },
  {
   "cell_type": "code",
   "execution_count": 3,
   "id": "6be0a33c-9946-455c-a58f-41511dff0aa1",
   "metadata": {},
   "outputs": [
    {
     "data": {
      "text/plain": [
       "{x: -1, y: 2}"
      ]
     },
     "execution_count": 3,
     "metadata": {},
     "output_type": "execute_result"
    }
   ],
   "source": [
    "eq1=sp.Eq(2*x +4*y,6)\n",
    "eq2=sp.Eq(-2*x + y,4)\n",
    "from sympy.solvers import solve\n",
    "sol=solve([eq1,eq2],[x,y])\n",
    "sol"
   ]
  },
  {
   "cell_type": "code",
   "execution_count": 4,
   "id": "2a7956d8-e911-4a71-a56a-a4eedbc792d7",
   "metadata": {},
   "outputs": [
    {
     "data": {
      "text/latex": [
       "$\\displaystyle \\text{True}$"
      ],
      "text/plain": [
       "True"
      ]
     },
     "execution_count": 4,
     "metadata": {},
     "output_type": "execute_result"
    }
   ],
   "source": [
    "#Prøve\n",
    "eq1.subs(sol)\n",
    "eq2.subs(sol)"
   ]
  },
  {
   "cell_type": "code",
   "execution_count": null,
   "id": "b9c6d2de-217e-4aac-aad4-92fdea4e55a8",
   "metadata": {},
   "outputs": [],
   "source": []
  },
  {
   "cell_type": "code",
   "execution_count": 5,
   "id": "2e03343b-de25-45b7-aa7a-5e5441fbacbb",
   "metadata": {},
   "outputs": [],
   "source": [
    "# Oppgave 1b\n",
    "# 1) 2x−y=−1\n",
    "# 2)x^2+x−y= 1"
   ]
  },
  {
   "cell_type": "code",
   "execution_count": 6,
   "id": "361855d0-84ce-496c-bb4c-edc443a6385e",
   "metadata": {},
   "outputs": [
    {
     "data": {
      "text/plain": [
       "[(-1, -1), (2, 5)]"
      ]
     },
     "execution_count": 6,
     "metadata": {},
     "output_type": "execute_result"
    }
   ],
   "source": [
    "eq1=sp.Eq(2*x - y,-1)\n",
    "eq2=sp.Eq(x**2 + x - y,1)\n",
    "from sympy.solvers import solve\n",
    "sol=solve([eq1,eq2],[x,y])\n",
    "sol"
   ]
  },
  {
   "cell_type": "code",
   "execution_count": 7,
   "id": "83eba350-c1d0-4588-84b0-3e38a1a38b8c",
   "metadata": {},
   "outputs": [
    {
     "ename": "TypeError",
     "evalue": "'Equality' object is not subscriptable",
     "output_type": "error",
     "traceback": [
      "\u001b[0;31m---------------------------------------------------------------------------\u001b[0m",
      "\u001b[0;31mTypeError\u001b[0m                                 Traceback (most recent call last)",
      "\u001b[0;32m/tmp/ipykernel_191497/2713506025.py\u001b[0m in \u001b[0;36m<module>\u001b[0;34m\u001b[0m\n\u001b[1;32m      1\u001b[0m \u001b[0;31m#Prøve\u001b[0m\u001b[0;34m\u001b[0m\u001b[0;34m\u001b[0m\u001b[0;34m\u001b[0m\u001b[0m\n\u001b[0;32m----> 2\u001b[0;31m \u001b[0meq1\u001b[0m\u001b[0;34m.\u001b[0m\u001b[0msubs\u001b[0m\u001b[0;34m(\u001b[0m\u001b[0msol\u001b[0m\u001b[0;34m)\u001b[0m\u001b[0;34m[\u001b[0m\u001b[0;34m-\u001b[0m\u001b[0;36m1\u001b[0m\u001b[0;34m,\u001b[0m \u001b[0;34m-\u001b[0m\u001b[0;36m1\u001b[0m\u001b[0;34m]\u001b[0m\u001b[0;34m\u001b[0m\u001b[0;34m\u001b[0m\u001b[0m\n\u001b[0m\u001b[1;32m      3\u001b[0m \u001b[0meq2\u001b[0m\u001b[0;34m.\u001b[0m\u001b[0msubs\u001b[0m\u001b[0;34m(\u001b[0m\u001b[0msol\u001b[0m\u001b[0;34m)\u001b[0m\u001b[0;34m[\u001b[0m\u001b[0;34m-\u001b[0m\u001b[0;36m1\u001b[0m\u001b[0;34m,\u001b[0m \u001b[0;34m-\u001b[0m\u001b[0;36m1\u001b[0m\u001b[0;34m]\u001b[0m\u001b[0;34m\u001b[0m\u001b[0;34m\u001b[0m\u001b[0m\n",
      "\u001b[0;31mTypeError\u001b[0m: 'Equality' object is not subscriptable"
     ]
    }
   ],
   "source": [
    "#Prøve\n",
    "eq1.subs(sol)[-1, -1]\n",
    "eq2.subs(sol)[-1, -1]"
   ]
  },
  {
   "cell_type": "code",
   "execution_count": null,
   "id": "cd46df67-3d22-4713-a479-3d8557ec5471",
   "metadata": {},
   "outputs": [],
   "source": []
  },
  {
   "cell_type": "code",
   "execution_count": 8,
   "id": "f37232cd-ca9a-4309-a20e-314ac56846b0",
   "metadata": {},
   "outputs": [],
   "source": [
    "# Oppgave 2a\n",
    "# (1) 3x−12 =−6y\n",
    "# (2) 4x−8y= 16"
   ]
  },
  {
   "cell_type": "code",
   "execution_count": 11,
   "id": "564a64ca-cd73-4472-ae06-42db05355815",
   "metadata": {},
   "outputs": [
    {
     "data": {
      "text/plain": [
       "{x: 4, y: 0}"
      ]
     },
     "execution_count": 11,
     "metadata": {},
     "output_type": "execute_result"
    }
   ],
   "source": [
    "eq1=sp.Eq(3*x - 12,-6*y)\n",
    "eq2=sp.Eq(4*x - 8*y,16)\n",
    "from sympy.solvers import solve\n",
    "sol=solve([eq1,eq2],[x,y])\n",
    "sol"
   ]
  },
  {
   "cell_type": "code",
   "execution_count": 12,
   "id": "412a7fd9-ed1a-4581-9582-d87234c10ea2",
   "metadata": {},
   "outputs": [
    {
     "data": {
      "text/latex": [
       "$\\displaystyle \\text{True}$"
      ],
      "text/plain": [
       "True"
      ]
     },
     "execution_count": 12,
     "metadata": {},
     "output_type": "execute_result"
    }
   ],
   "source": [
    "#Prøve\n",
    "eq1.subs(sol)\n",
    "eq2.subs(sol)"
   ]
  },
  {
   "cell_type": "code",
   "execution_count": null,
   "id": "37a6a2e7-fc14-4a43-aa20-335def387902",
   "metadata": {},
   "outputs": [],
   "source": []
  },
  {
   "cell_type": "code",
   "execution_count": 14,
   "id": "78dfa81f-6026-4b28-991b-d68ac865779d",
   "metadata": {},
   "outputs": [],
   "source": [
    "# Oppgave 2b:\n",
    "# (1) x^2+4x−3 = 3y\n",
    "# (2) 2y= 8−x\n"
   ]
  },
  {
   "cell_type": "code",
   "execution_count": 15,
   "id": "f1790933-bf20-4f31-a2a9-331fcefae2dd",
   "metadata": {},
   "outputs": [
    {
     "data": {
      "text/plain": [
       "[(-15/2, 31/4), (2, 3)]"
      ]
     },
     "execution_count": 15,
     "metadata": {},
     "output_type": "execute_result"
    }
   ],
   "source": [
    "eq1=sp.Eq(x**2 + 4*x -3,3*y )\n",
    "eq2=sp.Eq(2*y,8 - x)\n",
    "from sympy.solvers import solve\n",
    "sol=solve([eq1,eq2],[x,y])\n",
    "sol"
   ]
  },
  {
   "cell_type": "code",
   "execution_count": 16,
   "id": "4b5dfc65-c3d6-412d-b31e-918eea081c23",
   "metadata": {},
   "outputs": [
    {
     "ename": "TypeError",
     "evalue": "'Equality' object is not subscriptable",
     "output_type": "error",
     "traceback": [
      "\u001b[0;31m---------------------------------------------------------------------------\u001b[0m",
      "\u001b[0;31mTypeError\u001b[0m                                 Traceback (most recent call last)",
      "\u001b[0;32m/tmp/ipykernel_191497/2843703134.py\u001b[0m in \u001b[0;36m<module>\u001b[0;34m\u001b[0m\n\u001b[1;32m      1\u001b[0m \u001b[0;31m#Prøve\u001b[0m\u001b[0;34m\u001b[0m\u001b[0;34m\u001b[0m\u001b[0;34m\u001b[0m\u001b[0m\n\u001b[0;32m----> 2\u001b[0;31m \u001b[0meq1\u001b[0m\u001b[0;34m.\u001b[0m\u001b[0msubs\u001b[0m\u001b[0;34m(\u001b[0m\u001b[0msol\u001b[0m\u001b[0;34m)\u001b[0m\u001b[0;34m[\u001b[0m\u001b[0;34m(\u001b[0m\u001b[0;36m2\u001b[0m\u001b[0;34m,\u001b[0m \u001b[0;36m3\u001b[0m\u001b[0;34m)\u001b[0m\u001b[0;34m]\u001b[0m\u001b[0;34m\u001b[0m\u001b[0;34m\u001b[0m\u001b[0m\n\u001b[0m\u001b[1;32m      3\u001b[0m \u001b[0meq2\u001b[0m\u001b[0;34m.\u001b[0m\u001b[0msubs\u001b[0m\u001b[0;34m(\u001b[0m\u001b[0msol\u001b[0m\u001b[0;34m)\u001b[0m\u001b[0;34m[\u001b[0m\u001b[0;34m(\u001b[0m\u001b[0;36m2\u001b[0m\u001b[0;34m,\u001b[0m \u001b[0;36m3\u001b[0m\u001b[0;34m)\u001b[0m\u001b[0;34m]\u001b[0m\u001b[0;34m\u001b[0m\u001b[0;34m\u001b[0m\u001b[0m\n",
      "\u001b[0;31mTypeError\u001b[0m: 'Equality' object is not subscriptable"
     ]
    }
   ],
   "source": [
    "#Prøve\n",
    "eq1.subs(sol)[(2, 3)]\n",
    "eq2.subs(sol)[(2, 3)]"
   ]
  },
  {
   "cell_type": "code",
   "execution_count": null,
   "id": "aebc5307-63ab-4f80-a9c8-51c7709bc695",
   "metadata": {},
   "outputs": [],
   "source": []
  },
  {
   "cell_type": "code",
   "execution_count": 17,
   "id": "18b602f5-ceef-4cd1-9de2-717b3830c10e",
   "metadata": {},
   "outputs": [],
   "source": [
    "# Modul 16\n",
    "# Oppgave 1a:\n",
    "# (1) 4x+ 2y= 12\n",
    "# (2) 6x−2y= 8\n"
   ]
  },
  {
   "cell_type": "code",
   "execution_count": 18,
   "id": "38be9889-53e1-4363-af90-6b37c764c921",
   "metadata": {},
   "outputs": [
    {
     "data": {
      "text/plain": [
       "{x: 2, y: 2}"
      ]
     },
     "execution_count": 18,
     "metadata": {},
     "output_type": "execute_result"
    }
   ],
   "source": [
    "eq1=sp.Eq(4*x +2*y,12 )\n",
    "eq2=sp.Eq(6*x - 2*y,8)\n",
    "sol=solve([eq1,eq2],[x,y])\n",
    "sol"
   ]
  },
  {
   "cell_type": "code",
   "execution_count": 19,
   "id": "cbde2728-6558-43da-9d91-5d198d4d3137",
   "metadata": {},
   "outputs": [
    {
     "data": {
      "text/latex": [
       "$\\displaystyle \\text{True}$"
      ],
      "text/plain": [
       "True"
      ]
     },
     "execution_count": 19,
     "metadata": {},
     "output_type": "execute_result"
    }
   ],
   "source": [
    "# Prøve:\n",
    "eq1.subs(sol)\n",
    "eq2.subs(sol)"
   ]
  },
  {
   "cell_type": "code",
   "execution_count": null,
   "id": "95ce6a43-2a1e-4ee3-be9b-570f72a7b800",
   "metadata": {},
   "outputs": [],
   "source": []
  },
  {
   "cell_type": "code",
   "execution_count": 20,
   "id": "ed378fc0-37c6-4aa8-9953-7ccc7bcc6023",
   "metadata": {},
   "outputs": [],
   "source": [
    "# Oppgave 1b:\n",
    "# (1) 2x+y^2= 25\n",
    "# (2) x−2y= 10"
   ]
  },
  {
   "cell_type": "code",
   "execution_count": 21,
   "id": "d9588da4-523d-4a64-a85f-5f691cf56409",
   "metadata": {},
   "outputs": [
    {
     "data": {
      "text/plain": [
       "[(0, -5), (12, 1)]"
      ]
     },
     "execution_count": 21,
     "metadata": {},
     "output_type": "execute_result"
    }
   ],
   "source": [
    "eq1=sp.Eq(2*x +y**2,25 )\n",
    "eq2=sp.Eq(x - 2*y,10)\n",
    "sol=solve([eq1,eq2],[x,y])\n",
    "sol"
   ]
  },
  {
   "cell_type": "code",
   "execution_count": null,
   "id": "11e8aa73-6602-4811-8596-ea6bc52caa84",
   "metadata": {},
   "outputs": [],
   "source": []
  },
  {
   "cell_type": "code",
   "execution_count": 22,
   "id": "8fde4529-8b45-440d-bd91-de061eab75fd",
   "metadata": {},
   "outputs": [],
   "source": [
    "# Oppgave 2a:\n",
    "# (1) 4x−4y= 8\n",
    "# (2) 9x−5y= 26 "
   ]
  },
  {
   "cell_type": "code",
   "execution_count": 23,
   "id": "5a8589e7-4aa4-433d-b71a-6d58b40200fe",
   "metadata": {},
   "outputs": [
    {
     "data": {
      "text/plain": [
       "{x: 4, y: 2}"
      ]
     },
     "execution_count": 23,
     "metadata": {},
     "output_type": "execute_result"
    }
   ],
   "source": [
    "eq1=sp.Eq(4*x - 4*y,8)\n",
    "eq2=sp.Eq(9*x - 5*y,26)\n",
    "sol=solve([eq1,eq2],[x,y])\n",
    "sol"
   ]
  },
  {
   "cell_type": "code",
   "execution_count": 24,
   "id": "8bdb8c22-47fa-4cbb-a971-abc6c2160781",
   "metadata": {},
   "outputs": [
    {
     "data": {
      "text/latex": [
       "$\\displaystyle \\text{True}$"
      ],
      "text/plain": [
       "True"
      ]
     },
     "execution_count": 24,
     "metadata": {},
     "output_type": "execute_result"
    }
   ],
   "source": [
    "# Prøve:\n",
    "eq1.subs(sol)\n",
    "eq2.subs(sol)"
   ]
  },
  {
   "cell_type": "code",
   "execution_count": null,
   "id": "7a645c21-59ef-41e8-922b-bf79e01afe79",
   "metadata": {},
   "outputs": [],
   "source": []
  },
  {
   "cell_type": "code",
   "execution_count": 25,
   "id": "efc763cd-43d8-4e99-9f03-d2a4936bba7d",
   "metadata": {},
   "outputs": [],
   "source": [
    "# Oppgave 2b:\n",
    "# (1) x+2y^2= 15 \n",
    "# (2) x^2−4y^2= 33"
   ]
  },
  {
   "cell_type": "code",
   "execution_count": 26,
   "id": "86e7719d-4523-400f-9079-0f77857ef38d",
   "metadata": {},
   "outputs": [
    {
     "data": {
      "text/plain": [
       "[(-9, -2*sqrt(3)), (-9, 2*sqrt(3)), (7, -2), (7, 2)]"
      ]
     },
     "execution_count": 26,
     "metadata": {},
     "output_type": "execute_result"
    }
   ],
   "source": [
    "eq1=sp.Eq(x + 2*y**2,15)\n",
    "eq2=sp.Eq(x**2 - 4*y**2,33)\n",
    "sol=solve([eq1,eq2],[x,y])\n",
    "sol"
   ]
  },
  {
   "cell_type": "code",
   "execution_count": null,
   "id": "fec81a61-0d13-4c9c-b77c-9b40ebcce236",
   "metadata": {},
   "outputs": [],
   "source": []
  },
  {
   "cell_type": "code",
   "execution_count": 27,
   "id": "347ada18-efef-45ef-9117-3c4be6699bca",
   "metadata": {},
   "outputs": [],
   "source": [
    "# Modul 17\n",
    "# Oppgave 1a:\n",
    "# (1) xy^2−x= 0\n",
    "# (2) x+y^2= 16 "
   ]
  },
  {
   "cell_type": "code",
   "execution_count": 28,
   "id": "5c604d22-8b30-4be3-939d-f883766eda97",
   "metadata": {},
   "outputs": [
    {
     "data": {
      "text/plain": [
       "[(0, -4), (0, 4), (15, -1), (15, 1)]"
      ]
     },
     "execution_count": 28,
     "metadata": {},
     "output_type": "execute_result"
    }
   ],
   "source": [
    "eq1=sp.Eq(x*y**2 - x,0)\n",
    "eq2=sp.Eq(x + y**2,16)\n",
    "sol=solve([eq1,eq2],[x,y])\n",
    "sol"
   ]
  },
  {
   "cell_type": "code",
   "execution_count": 29,
   "id": "9cbff47d-e93f-4eb3-899a-8bec6cf5c4e9",
   "metadata": {},
   "outputs": [
    {
     "ename": "TypeError",
     "evalue": "'Equality' object is not subscriptable",
     "output_type": "error",
     "traceback": [
      "\u001b[0;31m---------------------------------------------------------------------------\u001b[0m",
      "\u001b[0;31mTypeError\u001b[0m                                 Traceback (most recent call last)",
      "\u001b[0;32m/tmp/ipykernel_191497/3332825717.py\u001b[0m in \u001b[0;36m<module>\u001b[0;34m\u001b[0m\n\u001b[1;32m      1\u001b[0m \u001b[0;31m# Prøve:\u001b[0m\u001b[0;34m\u001b[0m\u001b[0;34m\u001b[0m\u001b[0;34m\u001b[0m\u001b[0m\n\u001b[0;32m----> 2\u001b[0;31m \u001b[0meq1\u001b[0m\u001b[0;34m.\u001b[0m\u001b[0msubs\u001b[0m\u001b[0;34m(\u001b[0m\u001b[0msol\u001b[0m\u001b[0;34m)\u001b[0m\u001b[0;34m[\u001b[0m\u001b[0;34m{\u001b[0m\u001b[0;36m0\u001b[0m\u001b[0;34m,\u001b[0m \u001b[0;34m-\u001b[0m\u001b[0;36m4\u001b[0m\u001b[0;34m}\u001b[0m\u001b[0;34m]\u001b[0m\u001b[0;34m\u001b[0m\u001b[0;34m\u001b[0m\u001b[0m\n\u001b[0m\u001b[1;32m      3\u001b[0m \u001b[0meq2\u001b[0m\u001b[0;34m.\u001b[0m\u001b[0msubs\u001b[0m\u001b[0;34m(\u001b[0m\u001b[0msol\u001b[0m\u001b[0;34m)\u001b[0m\u001b[0;34m[\u001b[0m\u001b[0;34m{\u001b[0m\u001b[0;36m0\u001b[0m\u001b[0;34m,\u001b[0m \u001b[0;34m-\u001b[0m\u001b[0;36m4\u001b[0m\u001b[0;34m}\u001b[0m\u001b[0;34m]\u001b[0m\u001b[0;34m\u001b[0m\u001b[0;34m\u001b[0m\u001b[0m\n",
      "\u001b[0;31mTypeError\u001b[0m: 'Equality' object is not subscriptable"
     ]
    }
   ],
   "source": [
    "# Prøve:\n",
    "eq1.subs(sol)[{0, -4}]\n",
    "eq2.subs(sol)[{0, -4}]"
   ]
  },
  {
   "cell_type": "code",
   "execution_count": null,
   "id": "3d011518-2b5f-4549-a676-a4f7ebc8f029",
   "metadata": {},
   "outputs": [],
   "source": []
  },
  {
   "cell_type": "code",
   "execution_count": 30,
   "id": "44c845a4-e0d1-423d-a3c9-65b3f6d9e837",
   "metadata": {},
   "outputs": [],
   "source": [
    "# Oppgave 1b:\n",
    "# (1) x^2+y^2= 100\n",
    "# (2) x^2y−36y= 0"
   ]
  },
  {
   "cell_type": "code",
   "execution_count": 31,
   "id": "eef807ab-5a50-4173-bb76-b9f78560586e",
   "metadata": {},
   "outputs": [
    {
     "data": {
      "text/plain": [
       "[(-10, 0), (-6, -8), (-6, 8), (6, -8), (6, 8), (10, 0)]"
      ]
     },
     "execution_count": 31,
     "metadata": {},
     "output_type": "execute_result"
    }
   ],
   "source": [
    "eq1=sp.Eq(x**2 +y**2,100)\n",
    "eq2=sp.Eq(x**2*y - 36*y,0)\n",
    "sol=solve([eq1,eq2],[x,y])\n",
    "sol"
   ]
  },
  {
   "cell_type": "code",
   "execution_count": null,
   "id": "34785c2a-ac68-4039-836a-4fdec1605f35",
   "metadata": {},
   "outputs": [],
   "source": []
  },
  {
   "cell_type": "code",
   "execution_count": 32,
   "id": "e54634e9-0589-4a5f-9fcb-1b3ba25547eb",
   "metadata": {},
   "outputs": [],
   "source": [
    "# Oppgave 2a:\n",
    "# (1) xy^2−49x= 0\n",
    "# (2) x^2+y^2= 58 "
   ]
  },
  {
   "cell_type": "code",
   "execution_count": 33,
   "id": "88f6d216-169f-4f09-9dd4-6c0642cd90f6",
   "metadata": {},
   "outputs": [
    {
     "data": {
      "text/plain": [
       "[(-3, -7), (-3, 7), (0, -sqrt(58)), (0, sqrt(58)), (3, -7), (3, 7)]"
      ]
     },
     "execution_count": 33,
     "metadata": {},
     "output_type": "execute_result"
    }
   ],
   "source": [
    "eq1=sp.Eq(x*y**2 - 49*x,0)\n",
    "eq2=sp.Eq(x**2 + y**2,58)\n",
    "sol=solve([eq1,eq2],[x,y])\n",
    "sol"
   ]
  },
  {
   "cell_type": "code",
   "execution_count": null,
   "id": "ce24b99b-6baa-4bd1-8429-d739d4486a2a",
   "metadata": {},
   "outputs": [],
   "source": []
  },
  {
   "cell_type": "code",
   "execution_count": 34,
   "id": "c91bd139-4068-4a92-bf60-1cf103d3c7c3",
   "metadata": {},
   "outputs": [],
   "source": [
    "# Oppgave 2b:\n",
    "# (1) x^2+y^2=5/4 \n",
    "# (2) 2xy+y= 0"
   ]
  },
  {
   "cell_type": "code",
   "execution_count": 35,
   "id": "cd73820b-7918-45ee-8b09-bf59544c5a79",
   "metadata": {},
   "outputs": [
    {
     "data": {
      "text/plain": [
       "[(-1.11803398874989, 0.0),\n",
       " (-0.500000000000000, -1.00000000000000),\n",
       " (-0.500000000000000, 1.00000000000000),\n",
       " (1.11803398874989, 0.0)]"
      ]
     },
     "execution_count": 35,
     "metadata": {},
     "output_type": "execute_result"
    }
   ],
   "source": [
    "eq1=sp.Eq(x**2 + y**2,5/4)\n",
    "eq2=sp.Eq(2*x*y + y,0)\n",
    "sol=solve([eq1,eq2],[x,y])\n",
    "sol"
   ]
  },
  {
   "cell_type": "code",
   "execution_count": 36,
   "id": "ee3c3504-1bbe-40ba-87c6-a7c7e63694cf",
   "metadata": {},
   "outputs": [
    {
     "ename": "TypeError",
     "evalue": "'Equality' object is not subscriptable",
     "output_type": "error",
     "traceback": [
      "\u001b[0;31m---------------------------------------------------------------------------\u001b[0m",
      "\u001b[0;31mTypeError\u001b[0m                                 Traceback (most recent call last)",
      "\u001b[0;32m/tmp/ipykernel_191497/3332825717.py\u001b[0m in \u001b[0;36m<module>\u001b[0;34m\u001b[0m\n\u001b[1;32m      1\u001b[0m \u001b[0;31m# Prøve:\u001b[0m\u001b[0;34m\u001b[0m\u001b[0;34m\u001b[0m\u001b[0;34m\u001b[0m\u001b[0m\n\u001b[0;32m----> 2\u001b[0;31m \u001b[0meq1\u001b[0m\u001b[0;34m.\u001b[0m\u001b[0msubs\u001b[0m\u001b[0;34m(\u001b[0m\u001b[0msol\u001b[0m\u001b[0;34m)\u001b[0m\u001b[0;34m[\u001b[0m\u001b[0;34m{\u001b[0m\u001b[0;36m0\u001b[0m\u001b[0;34m,\u001b[0m \u001b[0;34m-\u001b[0m\u001b[0;36m4\u001b[0m\u001b[0;34m}\u001b[0m\u001b[0;34m]\u001b[0m\u001b[0;34m\u001b[0m\u001b[0;34m\u001b[0m\u001b[0m\n\u001b[0m\u001b[1;32m      3\u001b[0m \u001b[0meq2\u001b[0m\u001b[0;34m.\u001b[0m\u001b[0msubs\u001b[0m\u001b[0;34m(\u001b[0m\u001b[0msol\u001b[0m\u001b[0;34m)\u001b[0m\u001b[0;34m[\u001b[0m\u001b[0;34m{\u001b[0m\u001b[0;36m0\u001b[0m\u001b[0;34m,\u001b[0m \u001b[0;34m-\u001b[0m\u001b[0;36m4\u001b[0m\u001b[0;34m}\u001b[0m\u001b[0;34m]\u001b[0m\u001b[0;34m\u001b[0m\u001b[0;34m\u001b[0m\u001b[0m\n",
      "\u001b[0;31mTypeError\u001b[0m: 'Equality' object is not subscriptable"
     ]
    }
   ],
   "source": [
    "# Prøve:\n",
    "eq1.subs(sol)[{0, -4}]\n",
    "eq2.subs(sol)[{0, -4}]"
   ]
  },
  {
   "cell_type": "code",
   "execution_count": null,
   "id": "402d3063-ad44-4baf-bedd-bb3c6d63240b",
   "metadata": {},
   "outputs": [],
   "source": []
  },
  {
   "cell_type": "code",
   "execution_count": 37,
   "id": "4cf99ed3-c30a-4046-b390-c535b48b2f3d",
   "metadata": {},
   "outputs": [
    {
     "data": {
      "text/latex": [
       "$\\displaystyle 5 x^{4}$"
      ],
      "text/plain": [
       "5*x**4"
      ]
     },
     "execution_count": 37,
     "metadata": {},
     "output_type": "execute_result"
    }
   ],
   "source": [
    "# Modul 19:\n",
    "# Oppgave 1\n",
    "a=sp.diff(x**5)\n",
    "a"
   ]
  },
  {
   "cell_type": "code",
   "execution_count": 38,
   "id": "884c2512-4336-446d-83e0-ef53fb9155bf",
   "metadata": {},
   "outputs": [
    {
     "data": {
      "text/latex": [
       "$\\displaystyle 1$"
      ],
      "text/plain": [
       "1"
      ]
     },
     "execution_count": 38,
     "metadata": {},
     "output_type": "execute_result"
    }
   ],
   "source": [
    "b=sp.diff(x + 12)\n",
    "b"
   ]
  },
  {
   "cell_type": "code",
   "execution_count": 39,
   "id": "e5b36e82-7efe-4ee4-b3a9-631db9802681",
   "metadata": {},
   "outputs": [
    {
     "data": {
      "text/latex": [
       "$\\displaystyle 3 x^{2} + 8 x$"
      ],
      "text/plain": [
       "3*x**2 + 8*x"
      ]
     },
     "execution_count": 39,
     "metadata": {},
     "output_type": "execute_result"
    }
   ],
   "source": [
    "c=sp.diff(x**3 +4*x**2)\n",
    "c"
   ]
  },
  {
   "cell_type": "code",
   "execution_count": 40,
   "id": "fcaefd20-6760-477c-a7f3-735665dbf55c",
   "metadata": {},
   "outputs": [
    {
     "data": {
      "text/latex": [
       "$\\displaystyle 6 x^{2}$"
      ],
      "text/plain": [
       "6*x**2"
      ]
     },
     "execution_count": 40,
     "metadata": {},
     "output_type": "execute_result"
    }
   ],
   "source": [
    "d=sp.diff(2*x**3 + 36**0.5)\n",
    "d"
   ]
  },
  {
   "cell_type": "code",
   "execution_count": 41,
   "id": "1f7d5a3c-4bb7-41a1-bb82-760b1ab9e95e",
   "metadata": {},
   "outputs": [
    {
     "data": {
      "text/latex": [
       "$\\displaystyle \\frac{0.5}{x^{0.5}}$"
      ],
      "text/plain": [
       "0.5*x**(-0.5)"
      ]
     },
     "execution_count": 41,
     "metadata": {},
     "output_type": "execute_result"
    }
   ],
   "source": [
    "e=sp.diff(x**(1/2) + 5**2)\n",
    "e"
   ]
  },
  {
   "cell_type": "code",
   "execution_count": 42,
   "id": "7106b4c9-b407-4791-8c65-d6447ce953d5",
   "metadata": {},
   "outputs": [
    {
     "data": {
      "text/latex": [
       "$\\displaystyle 3 x^{2} - \\frac{1}{x^{2}}$"
      ],
      "text/plain": [
       "3*x**2 - 1/x**2"
      ]
     },
     "execution_count": 42,
     "metadata": {},
     "output_type": "execute_result"
    }
   ],
   "source": [
    "f=sp.diff(x**3 + 1/x)\n",
    "f"
   ]
  },
  {
   "cell_type": "code",
   "execution_count": 43,
   "id": "73bc220b-8e46-4040-83b1-bc7748aa56fb",
   "metadata": {},
   "outputs": [
    {
     "data": {
      "text/latex": [
       "$\\displaystyle 3 x^{2} - 2 x + 0.25$"
      ],
      "text/plain": [
       "3*x**2 - 2*x + 0.25"
      ]
     },
     "execution_count": 43,
     "metadata": {},
     "output_type": "execute_result"
    }
   ],
   "source": [
    "g=sp.diff(x**3 - x**2 +1/4*x)\n",
    "g"
   ]
  },
  {
   "cell_type": "code",
   "execution_count": null,
   "id": "6a3e907c-2baf-4903-b0aa-e29ad5e10847",
   "metadata": {},
   "outputs": [],
   "source": []
  },
  {
   "cell_type": "code",
   "execution_count": 44,
   "id": "a6f63de2-306d-4371-a9a0-0733e9b14787",
   "metadata": {},
   "outputs": [],
   "source": [
    "# Oppgave 2"
   ]
  },
  {
   "cell_type": "code",
   "execution_count": 45,
   "id": "1a99f8e9-a738-4968-8588-2a178c96ce52",
   "metadata": {},
   "outputs": [
    {
     "data": {
      "text/latex": [
       "$\\displaystyle 1.5 x^{2} - 1$"
      ],
      "text/plain": [
       "1.5*x**2 - 1"
      ]
     },
     "execution_count": 45,
     "metadata": {},
     "output_type": "execute_result"
    }
   ],
   "source": [
    "b=sp.diff(- x + 1/2*x**3)\n",
    "b"
   ]
  },
  {
   "cell_type": "code",
   "execution_count": 46,
   "id": "87036834-31e0-4ea4-9db0-b7496ef2a30d",
   "metadata": {
    "tags": []
   },
   "outputs": [
    {
     "data": {
      "text/latex": [
       "$\\displaystyle 3 x^{2} + 4 x - 3$"
      ],
      "text/plain": [
       "3*x**2 + 4*x - 3"
      ]
     },
     "execution_count": 46,
     "metadata": {},
     "output_type": "execute_result"
    }
   ],
   "source": [
    "c=sp.diff(x**3 + 2*x**2 -3*x)\n",
    "c"
   ]
  },
  {
   "cell_type": "code",
   "execution_count": null,
   "id": "b6d8ae4e-78d9-4fb4-bbd5-9b2bfb098af5",
   "metadata": {},
   "outputs": [],
   "source": []
  },
  {
   "cell_type": "code",
   "execution_count": 47,
   "id": "75739054-c1e6-48eb-a01e-5315b0c874a9",
   "metadata": {},
   "outputs": [],
   "source": [
    "# Modul 20:\n",
    "# Oppgave 1:"
   ]
  },
  {
   "cell_type": "code",
   "execution_count": 48,
   "id": "aca37aaa-6466-4d14-bd20-ca96690e6b63",
   "metadata": {},
   "outputs": [
    {
     "data": {
      "text/latex": [
       "$\\displaystyle x^{9}$"
      ],
      "text/plain": [
       "x**9"
      ]
     },
     "execution_count": 48,
     "metadata": {},
     "output_type": "execute_result"
    }
   ],
   "source": [
    "e=((x**4)*(x**5))\n",
    "e"
   ]
  },
  {
   "cell_type": "code",
   "execution_count": 49,
   "id": "ae3a0dc0-ad48-4428-b747-00c480d39075",
   "metadata": {},
   "outputs": [
    {
     "data": {
      "text/latex": [
       "$\\displaystyle 9 x^{8}$"
      ],
      "text/plain": [
       "9*x**8"
      ]
     },
     "execution_count": 49,
     "metadata": {},
     "output_type": "execute_result"
    }
   ],
   "source": [
    "e=sp.diff((x**4)*(x**5))\n",
    "e"
   ]
  },
  {
   "cell_type": "code",
   "execution_count": 50,
   "id": "a9575499-6fdf-455d-a275-ddc826d979be",
   "metadata": {},
   "outputs": [
    {
     "data": {
      "text/latex": [
       "$\\displaystyle x^{1.5}$"
      ],
      "text/plain": [
       "x**1.5"
      ]
     },
     "execution_count": 50,
     "metadata": {},
     "output_type": "execute_result"
    }
   ],
   "source": [
    "f=(x*x**(1/2))\n",
    "f"
   ]
  },
  {
   "cell_type": "code",
   "execution_count": 51,
   "id": "81f212e6-7701-470e-915c-91b31eddcb60",
   "metadata": {},
   "outputs": [
    {
     "data": {
      "text/latex": [
       "$\\displaystyle 1.5 x^{0.5}$"
      ],
      "text/plain": [
       "1.5*x**0.5"
      ]
     },
     "execution_count": 51,
     "metadata": {},
     "output_type": "execute_result"
    }
   ],
   "source": [
    "f=sp.diff(x*x**(1/2))\n",
    "f"
   ]
  },
  {
   "cell_type": "code",
   "execution_count": 52,
   "id": "c0280f72-b82e-4f4f-8efa-d9afcbcab59a",
   "metadata": {},
   "outputs": [
    {
     "data": {
      "text/latex": [
       "$\\displaystyle \\frac{2}{x^{3}}$"
      ],
      "text/plain": [
       "2/x**3"
      ]
     },
     "execution_count": 52,
     "metadata": {},
     "output_type": "execute_result"
    }
   ],
   "source": [
    "g=(2*x**-3)\n",
    "g"
   ]
  },
  {
   "cell_type": "code",
   "execution_count": 53,
   "id": "5f58cefa-2681-4771-8e64-e406f003965a",
   "metadata": {},
   "outputs": [
    {
     "data": {
      "text/latex": [
       "$\\displaystyle - \\frac{6}{x^{4}}$"
      ],
      "text/plain": [
       "-6/x**4"
      ]
     },
     "execution_count": 53,
     "metadata": {},
     "output_type": "execute_result"
    }
   ],
   "source": [
    "g=sp.diff(2*x**-3)\n",
    "g"
   ]
  },
  {
   "cell_type": "code",
   "execution_count": 54,
   "id": "a7f48979-5b2b-4bf5-bf57-d9bcb5fe1da1",
   "metadata": {},
   "outputs": [
    {
     "data": {
      "text/latex": [
       "$\\displaystyle \\frac{x^{2} - 2}{x^{3}}$"
      ],
      "text/plain": [
       "(x**2 - 2)/x**3"
      ]
     },
     "execution_count": 54,
     "metadata": {},
     "output_type": "execute_result"
    }
   ],
   "source": [
    "h=((x**2 - 2)/x**3)\n",
    "h"
   ]
  },
  {
   "cell_type": "code",
   "execution_count": 55,
   "id": "e6f7439e-f61e-424e-bca3-c40eff62f66c",
   "metadata": {},
   "outputs": [
    {
     "data": {
      "text/latex": [
       "$\\displaystyle \\frac{2}{x^{2}} - \\frac{3 \\left(x^{2} - 2\\right)}{x^{4}}$"
      ],
      "text/plain": [
       "2/x**2 - 3*(x**2 - 2)/x**4"
      ]
     },
     "execution_count": 55,
     "metadata": {},
     "output_type": "execute_result"
    }
   ],
   "source": [
    "h=sp.diff((x**2 - 2)/x**3)\n",
    "h"
   ]
  },
  {
   "cell_type": "code",
   "execution_count": 56,
   "id": "f5d5b2c1-c6dd-4fae-8eb3-535fad0521a8",
   "metadata": {},
   "outputs": [
    {
     "data": {
      "text/latex": [
       "$\\displaystyle x^{6.5}$"
      ],
      "text/plain": [
       "x**6.5"
      ]
     },
     "execution_count": 56,
     "metadata": {},
     "output_type": "execute_result"
    }
   ],
   "source": [
    "i=(x**(1/2)*x**6)\n",
    "i"
   ]
  },
  {
   "cell_type": "code",
   "execution_count": 57,
   "id": "e29024f8-5e99-4987-ba71-3fadf1e329cb",
   "metadata": {},
   "outputs": [
    {
     "data": {
      "text/latex": [
       "$\\displaystyle 6.5 x^{5.5}$"
      ],
      "text/plain": [
       "6.5*x**5.5"
      ]
     },
     "execution_count": 57,
     "metadata": {},
     "output_type": "execute_result"
    }
   ],
   "source": [
    "i=sp.diff(x**(1/2)*x**6)\n",
    "i"
   ]
  },
  {
   "cell_type": "code",
   "execution_count": 58,
   "id": "3a4dc967-eb39-4f03-860e-b3cd1b21274a",
   "metadata": {},
   "outputs": [
    {
     "data": {
      "text/latex": [
       "$\\displaystyle x \\left(x^{2} + 1\\right)$"
      ],
      "text/plain": [
       "x*(x**2 + 1)"
      ]
     },
     "execution_count": 58,
     "metadata": {},
     "output_type": "execute_result"
    }
   ],
   "source": [
    "j=(x*(x**2 + 1))\n",
    "j"
   ]
  },
  {
   "cell_type": "code",
   "execution_count": 59,
   "id": "ebc69c44-84b6-4f72-a5a4-f52d69bed885",
   "metadata": {},
   "outputs": [
    {
     "data": {
      "text/latex": [
       "$\\displaystyle 3 x^{2} + 1$"
      ],
      "text/plain": [
       "3*x**2 + 1"
      ]
     },
     "execution_count": 59,
     "metadata": {},
     "output_type": "execute_result"
    }
   ],
   "source": [
    "j=sp.diff(x*(x**2 + 1))\n",
    "j"
   ]
  },
  {
   "cell_type": "code",
   "execution_count": 60,
   "id": "36c2de06-89da-40a0-8afd-52f6225ae7ce",
   "metadata": {},
   "outputs": [
    {
     "data": {
      "text/latex": [
       "$\\displaystyle \\frac{x^{2} + 4}{x^{3} - 1}$"
      ],
      "text/plain": [
       "(x**2 + 4)/(x**3 - 1)"
      ]
     },
     "execution_count": 60,
     "metadata": {},
     "output_type": "execute_result"
    }
   ],
   "source": [
    "k=((x**2 + 4)/(x**3 - 1))\n",
    "k"
   ]
  },
  {
   "cell_type": "code",
   "execution_count": 61,
   "id": "99a8e339-3775-44aa-a355-e1778f8b15e8",
   "metadata": {},
   "outputs": [
    {
     "data": {
      "text/latex": [
       "$\\displaystyle - \\frac{3 x^{2} \\left(x^{2} + 4\\right)}{\\left(x^{3} - 1\\right)^{2}} + \\frac{2 x}{x^{3} - 1}$"
      ],
      "text/plain": [
       "-3*x**2*(x**2 + 4)/(x**3 - 1)**2 + 2*x/(x**3 - 1)"
      ]
     },
     "execution_count": 61,
     "metadata": {},
     "output_type": "execute_result"
    }
   ],
   "source": [
    "k=sp.diff((x**2 + 4)/(x**3 - 1))\n",
    "k"
   ]
  },
  {
   "cell_type": "code",
   "execution_count": 62,
   "id": "e4be1054-d784-4bdd-8b54-aa02f0b2f266",
   "metadata": {},
   "outputs": [
    {
     "data": {
      "text/latex": [
       "$\\displaystyle \\frac{x^{2}}{x^{2} + 2 x}$"
      ],
      "text/plain": [
       "x**2/(x**2 + 2*x)"
      ]
     },
     "execution_count": 62,
     "metadata": {},
     "output_type": "execute_result"
    }
   ],
   "source": [
    "l=(x**2/(x**2 + 2*x))\n",
    "l"
   ]
  },
  {
   "cell_type": "code",
   "execution_count": 63,
   "id": "2f3420c5-fabc-4037-b8b6-861dd3eace02",
   "metadata": {},
   "outputs": [
    {
     "data": {
      "text/latex": [
       "$\\displaystyle \\frac{x^{2} \\left(- 2 x - 2\\right)}{\\left(x^{2} + 2 x\\right)^{2}} + \\frac{2 x}{x^{2} + 2 x}$"
      ],
      "text/plain": [
       "x**2*(-2*x - 2)/(x**2 + 2*x)**2 + 2*x/(x**2 + 2*x)"
      ]
     },
     "execution_count": 63,
     "metadata": {},
     "output_type": "execute_result"
    }
   ],
   "source": [
    "l=sp.diff(x**2/(x**2 + 2*x))\n",
    "l"
   ]
  },
  {
   "cell_type": "code",
   "execution_count": 64,
   "id": "d970201d-cd3d-44a5-9867-7e7500b1e29e",
   "metadata": {},
   "outputs": [
    {
     "data": {
      "text/latex": [
       "$\\displaystyle \\frac{x^{2} + 4 x + 2}{x - 2}$"
      ],
      "text/plain": [
       "(x**2 + 4*x + 2)/(x - 2)"
      ]
     },
     "execution_count": 64,
     "metadata": {},
     "output_type": "execute_result"
    }
   ],
   "source": [
    "m=((x**2 + 4*x + 2)/(x - 2))\n",
    "m"
   ]
  },
  {
   "cell_type": "code",
   "execution_count": 65,
   "id": "67fa3049-a005-453b-b7e7-a38536da525c",
   "metadata": {},
   "outputs": [
    {
     "data": {
      "text/latex": [
       "$\\displaystyle \\frac{2 x + 4}{x - 2} - \\frac{x^{2} + 4 x + 2}{\\left(x - 2\\right)^{2}}$"
      ],
      "text/plain": [
       "(2*x + 4)/(x - 2) - (x**2 + 4*x + 2)/(x - 2)**2"
      ]
     },
     "execution_count": 65,
     "metadata": {},
     "output_type": "execute_result"
    }
   ],
   "source": [
    "m=sp.diff((x**2 + 4*x + 2)/(x - 2))\n",
    "m"
   ]
  },
  {
   "cell_type": "code",
   "execution_count": null,
   "id": "4492e637-20a1-414b-8f58-5a1f9d56e28b",
   "metadata": {},
   "outputs": [],
   "source": []
  },
  {
   "cell_type": "code",
   "execution_count": 66,
   "id": "1a1e23f6-6273-4810-8d59-c3b0d2fcb0ae",
   "metadata": {},
   "outputs": [],
   "source": [
    "# Oppgave 2:"
   ]
  },
  {
   "cell_type": "code",
   "execution_count": 67,
   "id": "9686edc9-c02e-455a-929a-a6b3fb5d47df",
   "metadata": {},
   "outputs": [
    {
     "data": {
      "text/latex": [
       "$\\displaystyle \\frac{x^{3} - 2 x}{x^{2} - 1}$"
      ],
      "text/plain": [
       "(x**3 - 2*x)/(x**2 - 1)"
      ]
     },
     "execution_count": 67,
     "metadata": {},
     "output_type": "execute_result"
    }
   ],
   "source": [
    "a=((x**3 - 2*x)/(x**2 - 1))\n",
    "a"
   ]
  },
  {
   "cell_type": "code",
   "execution_count": 68,
   "id": "8252c1b1-5982-451a-af5f-84f57eaab43c",
   "metadata": {},
   "outputs": [
    {
     "data": {
      "text/latex": [
       "$\\displaystyle - \\frac{2 x \\left(x^{3} - 2 x\\right)}{\\left(x^{2} - 1\\right)^{2}} + \\frac{3 x^{2} - 2}{x^{2} - 1}$"
      ],
      "text/plain": [
       "-2*x*(x**3 - 2*x)/(x**2 - 1)**2 + (3*x**2 - 2)/(x**2 - 1)"
      ]
     },
     "execution_count": 68,
     "metadata": {},
     "output_type": "execute_result"
    }
   ],
   "source": [
    "a=sp.diff((x**3 - 2*x)/(x**2 - 1))\n",
    "a"
   ]
  },
  {
   "cell_type": "code",
   "execution_count": 69,
   "id": "44549c0c-200b-4f08-addb-ca8bb7c42dc3",
   "metadata": {},
   "outputs": [
    {
     "data": {
      "text/latex": [
       "$\\displaystyle \\left(x^{2} - 1\\right) \\left(x^{2} + 1\\right)$"
      ],
      "text/plain": [
       "(x**2 - 1)*(x**2 + 1)"
      ]
     },
     "execution_count": 69,
     "metadata": {},
     "output_type": "execute_result"
    }
   ],
   "source": [
    "b=((x**2 + 1)*(x**2 - 1))\n",
    "b"
   ]
  },
  {
   "cell_type": "code",
   "execution_count": 70,
   "id": "91fe144b-a230-4a5e-a244-ab998f623661",
   "metadata": {},
   "outputs": [
    {
     "data": {
      "text/latex": [
       "$\\displaystyle 2 x \\left(x^{2} - 1\\right) + 2 x \\left(x^{2} + 1\\right)$"
      ],
      "text/plain": [
       "2*x*(x**2 - 1) + 2*x*(x**2 + 1)"
      ]
     },
     "execution_count": 70,
     "metadata": {},
     "output_type": "execute_result"
    }
   ],
   "source": [
    "b=sp.diff((x**2 + 1)*(x**2 - 1))\n",
    "b"
   ]
  },
  {
   "cell_type": "code",
   "execution_count": 71,
   "id": "7adedbef-c045-4344-9d0d-216b4c64c0c1",
   "metadata": {},
   "outputs": [
    {
     "data": {
      "text/latex": [
       "$\\displaystyle \\frac{3 x - 4}{x^{3} + 7}$"
      ],
      "text/plain": [
       "(3*x - 4)/(x**3 + 7)"
      ]
     },
     "execution_count": 71,
     "metadata": {},
     "output_type": "execute_result"
    }
   ],
   "source": [
    "c=((3*x - 4)/(x**3 + 7))\n",
    "c"
   ]
  },
  {
   "cell_type": "code",
   "execution_count": 72,
   "id": "be31e800-eec1-45b1-9d25-dc3160bc62fb",
   "metadata": {},
   "outputs": [
    {
     "data": {
      "text/latex": [
       "$\\displaystyle - \\frac{3 x^{2} \\left(3 x - 4\\right)}{\\left(x^{3} + 7\\right)^{2}} + \\frac{3}{x^{3} + 7}$"
      ],
      "text/plain": [
       "-3*x**2*(3*x - 4)/(x**3 + 7)**2 + 3/(x**3 + 7)"
      ]
     },
     "execution_count": 72,
     "metadata": {},
     "output_type": "execute_result"
    }
   ],
   "source": [
    "c=sp.diff((3*x - 4)/(x**3 + 7))\n",
    "c"
   ]
  },
  {
   "cell_type": "code",
   "execution_count": null,
   "id": "16b54092-5657-4c16-9aba-01923591b08f",
   "metadata": {},
   "outputs": [],
   "source": []
  },
  {
   "cell_type": "code",
   "execution_count": 73,
   "id": "c69b3452-9621-4699-94d6-1fddea141feb",
   "metadata": {},
   "outputs": [],
   "source": [
    "# Modul 21:\n",
    "# Oppgave 1:"
   ]
  },
  {
   "cell_type": "code",
   "execution_count": 87,
   "id": "19e98076-b7ed-4a41-8d84-0ffd85131206",
   "metadata": {},
   "outputs": [
    {
     "data": {
      "text/latex": [
       "$\\displaystyle \\left(x^{3} + 6 x\\right)^{5}$"
      ],
      "text/plain": [
       "(x**3 + 6*x)**5"
      ]
     },
     "execution_count": 87,
     "metadata": {},
     "output_type": "execute_result"
    }
   ],
   "source": [
    "a=((x**3 +6*x)**5)\n",
    "a   "
   ]
  },
  {
   "cell_type": "code",
   "execution_count": 88,
   "id": "3e90aff3-0557-4f4d-a54e-19b723dc6af1",
   "metadata": {},
   "outputs": [
    {
     "data": {
      "text/latex": [
       "$\\displaystyle \\left(15 x^{2} + 30\\right) \\left(x^{3} + 6 x\\right)^{4}$"
      ],
      "text/plain": [
       "(15*x**2 + 30)*(x**3 + 6*x)**4"
      ]
     },
     "execution_count": 88,
     "metadata": {},
     "output_type": "execute_result"
    }
   ],
   "source": [
    "a=sp.diff((x**3 +6*x)**5)\n",
    "a"
   ]
  },
  {
   "cell_type": "code",
   "execution_count": 89,
   "id": "20892cbd-bfca-427b-b015-b5d6af5e1ecf",
   "metadata": {},
   "outputs": [
    {
     "data": {
      "text/latex": [
       "$\\displaystyle \\left(2 x^{2} + 5\\right)^{0.5}$"
      ],
      "text/plain": [
       "(2*x**2 + 5)**0.5"
      ]
     },
     "execution_count": 89,
     "metadata": {},
     "output_type": "execute_result"
    }
   ],
   "source": [
    "b=((2*x**2 + 5)**(1/2))\n",
    "b"
   ]
  },
  {
   "cell_type": "code",
   "execution_count": 90,
   "id": "9ff3cbf3-ce80-43d7-b1bd-043f1c11f8b1",
   "metadata": {},
   "outputs": [
    {
     "data": {
      "text/latex": [
       "$\\displaystyle \\frac{2.0 x}{\\left(2 x^{2} + 5\\right)^{0.5}}$"
      ],
      "text/plain": [
       "2.0*x*(2*x**2 + 5)**(-0.5)"
      ]
     },
     "execution_count": 90,
     "metadata": {},
     "output_type": "execute_result"
    }
   ],
   "source": [
    "b=sp.diff((2*x**2 + 5)**(1/2))\n",
    "b"
   ]
  },
  {
   "cell_type": "code",
   "execution_count": 91,
   "id": "760967f9-389d-4006-82ac-afe5eeb9677f",
   "metadata": {},
   "outputs": [
    {
     "data": {
      "text/latex": [
       "$\\displaystyle \\frac{16 x^{4}}{\\left(x^{2} + 3\\right)^{4}}$"
      ],
      "text/plain": [
       "16*x**4/(x**2 + 3)**4"
      ]
     },
     "execution_count": 91,
     "metadata": {},
     "output_type": "execute_result"
    }
   ],
   "source": [
    "c=(((2*x)/(x**2 + 3))**4)\n",
    "c"
   ]
  },
  {
   "cell_type": "code",
   "execution_count": 92,
   "id": "e2c1dfa7-2827-478e-9d51-eb57b5d21422",
   "metadata": {},
   "outputs": [
    {
     "data": {
      "text/latex": [
       "$\\displaystyle - \\frac{128 x^{5}}{\\left(x^{2} + 3\\right)^{5}} + \\frac{64 x^{3}}{\\left(x^{2} + 3\\right)^{4}}$"
      ],
      "text/plain": [
       "-128*x**5/(x**2 + 3)**5 + 64*x**3/(x**2 + 3)**4"
      ]
     },
     "execution_count": 92,
     "metadata": {},
     "output_type": "execute_result"
    }
   ],
   "source": [
    "c=sp.diff(((2*x)/(x**2 + 3))**4)\n",
    "c"
   ]
  },
  {
   "cell_type": "code",
   "execution_count": 94,
   "id": "37030f58-ce9b-4cf7-b4f6-ba1e222d1a6e",
   "metadata": {},
   "outputs": [
    {
     "data": {
      "text/latex": [
       "$\\displaystyle \\left(2 x^{4} + 9\\right)^{1.5}$"
      ],
      "text/plain": [
       "(2*x**4 + 9)**1.5"
      ]
     },
     "execution_count": 94,
     "metadata": {},
     "output_type": "execute_result"
    }
   ],
   "source": [
    "d=((2*x**4 + 9)**(3/2))\n",
    "d"
   ]
  },
  {
   "cell_type": "code",
   "execution_count": 95,
   "id": "17804bbc-0d1f-4343-9452-0ebd11a56c93",
   "metadata": {},
   "outputs": [
    {
     "data": {
      "text/latex": [
       "$\\displaystyle 12.0 x^{3} \\left(2 x^{4} + 9\\right)^{0.5}$"
      ],
      "text/plain": [
       "12.0*x**3*(2*x**4 + 9)**0.5"
      ]
     },
     "execution_count": 95,
     "metadata": {},
     "output_type": "execute_result"
    }
   ],
   "source": [
    "d=sp.diff((2*x**4 + 9)**(3/2))\n",
    "d"
   ]
  },
  {
   "cell_type": "code",
   "execution_count": 96,
   "id": "84ce3daf-ece9-4255-a05e-dd39ab75eda7",
   "metadata": {},
   "outputs": [
    {
     "data": {
      "text/latex": [
       "$\\displaystyle \\left(x^{2} + 1\\right)^{-0.5}$"
      ],
      "text/plain": [
       "(x**2 + 1)**(-0.5)"
      ]
     },
     "execution_count": 96,
     "metadata": {},
     "output_type": "execute_result"
    }
   ],
   "source": [
    "e=((1/(1 + x**2)**(1/2)))\n",
    "e"
   ]
  },
  {
   "cell_type": "code",
   "execution_count": 97,
   "id": "f38e74e6-1a2d-4077-ac74-0ab7adc39f1e",
   "metadata": {},
   "outputs": [
    {
     "data": {
      "text/latex": [
       "$\\displaystyle - \\frac{1.0 x}{\\left(x^{2} + 1\\right)^{1.5}}$"
      ],
      "text/plain": [
       "-1.0*x*(x**2 + 1)**(-1.5)"
      ]
     },
     "execution_count": 97,
     "metadata": {},
     "output_type": "execute_result"
    }
   ],
   "source": [
    "e=sp.diff((1/(1 + x**2)**(1/2)))\n",
    "e"
   ]
  },
  {
   "cell_type": "code",
   "execution_count": 98,
   "id": "43a2eab2-1359-4223-9f4d-b855f0b4628e",
   "metadata": {},
   "outputs": [
    {
     "data": {
      "text/latex": [
       "$\\displaystyle x^{2} \\left(x^{2} + 2 x\\right)^{3}$"
      ],
      "text/plain": [
       "x**2*(x**2 + 2*x)**3"
      ]
     },
     "execution_count": 98,
     "metadata": {},
     "output_type": "execute_result"
    }
   ],
   "source": [
    "f=(x**2*(x**2 + 2*x)**3)\n",
    "f"
   ]
  },
  {
   "cell_type": "code",
   "execution_count": 99,
   "id": "39502bd3-f004-48db-8c0a-d60f013c16a8",
   "metadata": {},
   "outputs": [
    {
     "data": {
      "text/latex": [
       "$\\displaystyle x^{2} \\left(6 x + 6\\right) \\left(x^{2} + 2 x\\right)^{2} + 2 x \\left(x^{2} + 2 x\\right)^{3}$"
      ],
      "text/plain": [
       "x**2*(6*x + 6)*(x**2 + 2*x)**2 + 2*x*(x**2 + 2*x)**3"
      ]
     },
     "execution_count": 99,
     "metadata": {},
     "output_type": "execute_result"
    }
   ],
   "source": [
    "f=sp.diff(x**2*(x**2 + 2*x)**3)\n",
    "f"
   ]
  },
  {
   "cell_type": "code",
   "execution_count": 100,
   "id": "ed48e1e2-4e72-4444-b816-48436a443f04",
   "metadata": {},
   "outputs": [
    {
     "data": {
      "text/latex": [
       "$\\displaystyle x^{2} \\left(x^{2} - 2 x\\right)^{0.5}$"
      ],
      "text/plain": [
       "x**2*(x**2 - 2*x)**0.5"
      ]
     },
     "execution_count": 100,
     "metadata": {},
     "output_type": "execute_result"
    }
   ],
   "source": [
    "g=(x**2*(x**2 - 2*x)**(1/2))\n",
    "g"
   ]
  },
  {
   "cell_type": "code",
   "execution_count": 101,
   "id": "ce86b1fc-8943-438b-accf-bdb52cb85915",
   "metadata": {},
   "outputs": [
    {
     "data": {
      "text/latex": [
       "$\\displaystyle \\frac{x^{2} \\left(1.0 x - 1.0\\right)}{\\left(x^{2} - 2 x\\right)^{0.5}} + 2 x \\left(x^{2} - 2 x\\right)^{0.5}$"
      ],
      "text/plain": [
       "x**2*(1.0*x - 1.0)*(x**2 - 2*x)**(-0.5) + 2*x*(x**2 - 2*x)**0.5"
      ]
     },
     "execution_count": 101,
     "metadata": {},
     "output_type": "execute_result"
    }
   ],
   "source": [
    "g=sp.diff(x**2*(x**2 - 2*x)**(1/2))\n",
    "g"
   ]
  },
  {
   "cell_type": "code",
   "execution_count": 103,
   "id": "fb73e103-f6aa-4867-8958-cf110b507d53",
   "metadata": {},
   "outputs": [
    {
     "data": {
      "text/latex": [
       "$\\displaystyle \\frac{x^{2}}{\\left(x^{2} + x\\right)^{3}}$"
      ],
      "text/plain": [
       "x**2/(x**2 + x)**3"
      ]
     },
     "execution_count": 103,
     "metadata": {},
     "output_type": "execute_result"
    }
   ],
   "source": [
    "h=(x**2/(x**2 + x)**3)\n",
    "h"
   ]
  },
  {
   "cell_type": "code",
   "execution_count": 104,
   "id": "3e47fc90-8c01-44d2-a6c8-c162682caedc",
   "metadata": {},
   "outputs": [
    {
     "data": {
      "text/latex": [
       "$\\displaystyle \\left(x^{2} + 1\\right)^{2} \\left(x^{3} + 1\\right)^{3}$"
      ],
      "text/plain": [
       "(x**2 + 1)**2*(x**3 + 1)**3"
      ]
     },
     "execution_count": 104,
     "metadata": {},
     "output_type": "execute_result"
    }
   ],
   "source": [
    "i=((x**2 + 1)**2 *(x**3 + 1)**3)\n",
    "i"
   ]
  },
  {
   "cell_type": "code",
   "execution_count": 105,
   "id": "a6cd0471-29bb-4084-b63b-08363900a9f5",
   "metadata": {},
   "outputs": [
    {
     "data": {
      "text/latex": [
       "$\\displaystyle 9 x^{2} \\left(x^{2} + 1\\right)^{2} \\left(x^{3} + 1\\right)^{2} + 4 x \\left(x^{2} + 1\\right) \\left(x^{3} + 1\\right)^{3}$"
      ],
      "text/plain": [
       "9*x**2*(x**2 + 1)**2*(x**3 + 1)**2 + 4*x*(x**2 + 1)*(x**3 + 1)**3"
      ]
     },
     "execution_count": 105,
     "metadata": {},
     "output_type": "execute_result"
    }
   ],
   "source": [
    "i=sp.diff((x**2 + 1)**2 *(x**3 + 1)**3)\n",
    "i"
   ]
  },
  {
   "cell_type": "code",
   "execution_count": null,
   "id": "4edf69d1-5cf3-4b28-86fc-f9d826e1cf82",
   "metadata": {},
   "outputs": [],
   "source": []
  },
  {
   "cell_type": "code",
   "execution_count": null,
   "id": "f2911009-d565-4b5c-b7e3-7c5542fc9c5e",
   "metadata": {},
   "outputs": [],
   "source": [
    "# Oppgave 2:"
   ]
  },
  {
   "cell_type": "code",
   "execution_count": 74,
   "id": "3b26d67f-d434-43a8-aebf-96f763a688cb",
   "metadata": {},
   "outputs": [
    {
     "data": {
      "text/latex": [
       "$\\displaystyle \\left(\\left(3 x^{2} + 2 x\\right)^{4}\\right)^{0.5}$"
      ],
      "text/plain": [
       "((3*x**2 + 2*x)**4)**0.5"
      ]
     },
     "execution_count": 74,
     "metadata": {},
     "output_type": "execute_result"
    }
   ],
   "source": [
    "a=(((3*x**2 + 2*x)**4)**(1/2))\n",
    "a"
   ]
  },
  {
   "cell_type": "code",
   "execution_count": 75,
   "id": "122a49a6-0686-487f-a592-2e1ec894d60e",
   "metadata": {},
   "outputs": [
    {
     "data": {
      "text/latex": [
       "$\\displaystyle \\frac{0.5 \\left(24 x + 8\\right) \\left(\\left(3 x^{2} + 2 x\\right)^{4}\\right)^{0.5}}{3 x^{2} + 2 x}$"
      ],
      "text/plain": [
       "0.5*(24*x + 8)*((3*x**2 + 2*x)**4)**0.5/(3*x**2 + 2*x)"
      ]
     },
     "execution_count": 75,
     "metadata": {},
     "output_type": "execute_result"
    }
   ],
   "source": [
    "a=sp.diff(((3*x**2 + 2*x)**4)**(1/2))\n",
    "a"
   ]
  },
  {
   "cell_type": "code",
   "execution_count": 76,
   "id": "d45ad42f-ee22-47a1-aa6f-689b53e5b931",
   "metadata": {},
   "outputs": [
    {
     "data": {
      "text/latex": [
       "$\\displaystyle \\left(x^{2} + 3\\right)^{4} \\left(x^{3} + 3\\right)^{5}$"
      ],
      "text/plain": [
       "(x**2 + 3)**4*(x**3 + 3)**5"
      ]
     },
     "execution_count": 76,
     "metadata": {},
     "output_type": "execute_result"
    }
   ],
   "source": [
    "b=((x**3 + 3)**5*(x**2 + 3)**4)\n",
    "b"
   ]
  },
  {
   "cell_type": "code",
   "execution_count": 77,
   "id": "a87514cc-9445-49bd-b6bd-b1520a0e8dfd",
   "metadata": {},
   "outputs": [
    {
     "data": {
      "text/latex": [
       "$\\displaystyle 15 x^{2} \\left(x^{2} + 3\\right)^{4} \\left(x^{3} + 3\\right)^{4} + 8 x \\left(x^{2} + 3\\right)^{3} \\left(x^{3} + 3\\right)^{5}$"
      ],
      "text/plain": [
       "15*x**2*(x**2 + 3)**4*(x**3 + 3)**4 + 8*x*(x**2 + 3)**3*(x**3 + 3)**5"
      ]
     },
     "execution_count": 77,
     "metadata": {},
     "output_type": "execute_result"
    }
   ],
   "source": [
    "b=sp.diff((x**3 + 3)**5*(x**2 + 3)**4)\n",
    "b"
   ]
  },
  {
   "cell_type": "code",
   "execution_count": 78,
   "id": "8ca70593-d4b6-41e5-ad5f-126780dd81b2",
   "metadata": {},
   "outputs": [
    {
     "data": {
      "text/latex": [
       "$\\displaystyle x^{2} \\left(x^{2} + 1\\right)^{0.5}$"
      ],
      "text/plain": [
       "x**2*(x**2 + 1)**0.5"
      ]
     },
     "execution_count": 78,
     "metadata": {},
     "output_type": "execute_result"
    }
   ],
   "source": [
    "c=((x**2+ 1)**(1/2)*x**2)\n",
    "c"
   ]
  },
  {
   "cell_type": "code",
   "execution_count": 79,
   "id": "0ecab525-2015-47d4-88cb-a15666680b57",
   "metadata": {},
   "outputs": [
    {
     "data": {
      "text/latex": [
       "$\\displaystyle \\frac{1.0 x^{3}}{\\left(x^{2} + 1\\right)^{0.5}} + 2 x \\left(x^{2} + 1\\right)^{0.5}$"
      ],
      "text/plain": [
       "1.0*x**3*(x**2 + 1)**(-0.5) + 2*x*(x**2 + 1)**0.5"
      ]
     },
     "execution_count": 79,
     "metadata": {},
     "output_type": "execute_result"
    }
   ],
   "source": [
    "c=sp.diff((x**2+ 1)**(1/2)*x**2)\n",
    "c"
   ]
  },
  {
   "cell_type": "code",
   "execution_count": 80,
   "id": "d5084ae9-6201-4445-a76b-7c9dc7f4322e",
   "metadata": {},
   "outputs": [
    {
     "data": {
      "text/latex": [
       "$\\displaystyle \\frac{\\left(3 x^{2} + 2 x\\right)^{3}}{x^{2}}$"
      ],
      "text/plain": [
       "(3*x**2 + 2*x)**3/x**2"
      ]
     },
     "execution_count": 80,
     "metadata": {},
     "output_type": "execute_result"
    }
   ],
   "source": [
    "d=(((2*x +3*x**2)**3)/x**2)\n",
    "d"
   ]
  },
  {
   "cell_type": "code",
   "execution_count": 81,
   "id": "f7e8235d-bea2-45c0-8d39-c083dbfa67e3",
   "metadata": {},
   "outputs": [
    {
     "data": {
      "text/latex": [
       "$\\displaystyle \\frac{\\left(18 x + 6\\right) \\left(3 x^{2} + 2 x\\right)^{2}}{x^{2}} - \\frac{2 \\left(3 x^{2} + 2 x\\right)^{3}}{x^{3}}$"
      ],
      "text/plain": [
       "(18*x + 6)*(3*x**2 + 2*x)**2/x**2 - 2*(3*x**2 + 2*x)**3/x**3"
      ]
     },
     "execution_count": 81,
     "metadata": {},
     "output_type": "execute_result"
    }
   ],
   "source": [
    "d=sp.diff(((2*x +3*x**2)**3)/x**2)\n",
    "d"
   ]
  },
  {
   "cell_type": "code",
   "execution_count": 82,
   "id": "321164ab-10a2-4e21-bf29-44e673756d2e",
   "metadata": {},
   "outputs": [
    {
     "data": {
      "text/latex": [
       "$\\displaystyle \\left(x^{4} - 5\\right)^{0.333333333333333}$"
      ],
      "text/plain": [
       "(x**4 - 5)**0.333333333333333"
      ]
     },
     "execution_count": 82,
     "metadata": {},
     "output_type": "execute_result"
    }
   ],
   "source": [
    "e=((x**4 - 5)**(1/3))\n",
    "e"
   ]
  },
  {
   "cell_type": "code",
   "execution_count": 83,
   "id": "880ff3ee-a248-4928-9d2e-8ece78cd44d9",
   "metadata": {},
   "outputs": [
    {
     "data": {
      "text/latex": [
       "$\\displaystyle \\frac{1.33333333333333 x^{3}}{\\left(x^{4} - 5\\right)^{0.666666666666667}}$"
      ],
      "text/plain": [
       "1.33333333333333*x**3*(x**4 - 5)**(-0.666666666666667)"
      ]
     },
     "execution_count": 83,
     "metadata": {},
     "output_type": "execute_result"
    }
   ],
   "source": [
    "e=sp.diff((x**4 - 5)**(1/3))\n",
    "e"
   ]
  },
  {
   "cell_type": "code",
   "execution_count": 84,
   "id": "6e482a5e-4eca-46cd-b899-77132e6a0d93",
   "metadata": {},
   "outputs": [
    {
     "data": {
      "text/latex": [
       "$\\displaystyle \\frac{x^{3}}{\\left(x^{4} - 1\\right)^{0.5}}$"
      ],
      "text/plain": [
       "x**3*(x**4 - 1)**(-0.5)"
      ]
     },
     "execution_count": 84,
     "metadata": {},
     "output_type": "execute_result"
    }
   ],
   "source": [
    "f=(x**3/(x**4 - 1)**(1/2))\n",
    "f"
   ]
  },
  {
   "cell_type": "code",
   "execution_count": 85,
   "id": "c861c74c-0807-486a-bda3-53669f4c178a",
   "metadata": {},
   "outputs": [
    {
     "data": {
      "text/latex": [
       "$\\displaystyle - \\frac{2.0 x^{6}}{\\left(x^{4} - 1\\right)^{1.5}} + \\frac{3 x^{2}}{\\left(x^{4} - 1\\right)^{0.5}}$"
      ],
      "text/plain": [
       "-2.0*x**6*(x**4 - 1)**(-1.5) + 3*x**2*(x**4 - 1)**(-0.5)"
      ]
     },
     "execution_count": 85,
     "metadata": {},
     "output_type": "execute_result"
    }
   ],
   "source": [
    "f=sp.diff(x**3/(x**4 - 1)**(1/2))\n",
    "f"
   ]
  },
  {
   "cell_type": "code",
   "execution_count": null,
   "id": "2ee9ed0d-10fe-4218-98fc-3a837c4c51c0",
   "metadata": {},
   "outputs": [],
   "source": [
    "# Modul 22:"
   ]
  },
  {
   "cell_type": "code",
   "execution_count": null,
   "id": "a866234e-a40d-4dcd-b4ed-52263464a5b2",
   "metadata": {},
   "outputs": [],
   "source": [
    "#Oppgave 1:"
   ]
  },
  {
   "cell_type": "code",
   "execution_count": 129,
   "id": "91e115f1-77ab-4158-9bf9-db25c99601bf",
   "metadata": {},
   "outputs": [
    {
     "data": {
      "text/latex": [
       "$\\displaystyle \\log{\\left(5 x \\right)}$"
      ],
      "text/plain": [
       "log(5*x)"
      ]
     },
     "metadata": {},
     "output_type": "display_data"
    }
   ],
   "source": [
    "a=display((sp.log(5*x)))"
   ]
  },
  {
   "cell_type": "code",
   "execution_count": 132,
   "id": "a97ce2e3-b0f9-47f7-a66d-6cb940c8ebb3",
   "metadata": {},
   "outputs": [
    {
     "data": {
      "text/latex": [
       "$\\displaystyle \\frac{1}{x}$"
      ],
      "text/plain": [
       "1/x"
      ]
     },
     "execution_count": 132,
     "metadata": {},
     "output_type": "execute_result"
    }
   ],
   "source": [
    "a=sp.diff(sp.log(5*x))\n",
    "a"
   ]
  },
  {
   "cell_type": "code",
   "execution_count": 133,
   "id": "ec5aa3c6-e1c6-481a-9b8c-0af1d6da787c",
   "metadata": {},
   "outputs": [
    {
     "data": {
      "text/latex": [
       "$\\displaystyle e^{- 2 x}$"
      ],
      "text/plain": [
       "exp(-2*x)"
      ]
     },
     "metadata": {},
     "output_type": "display_data"
    }
   ],
   "source": [
    "b=display((sp.exp(-2*x)))"
   ]
  },
  {
   "cell_type": "code",
   "execution_count": 134,
   "id": "64fa2da0-cec2-444c-b483-85035cc84e3d",
   "metadata": {},
   "outputs": [
    {
     "data": {
      "text/latex": [
       "$\\displaystyle - 2 e^{- 2 x}$"
      ],
      "text/plain": [
       "-2*exp(-2*x)"
      ]
     },
     "metadata": {},
     "output_type": "display_data"
    }
   ],
   "source": [
    "b=display(sp.diff((sp.exp(-2*x))))"
   ]
  },
  {
   "cell_type": "code",
   "execution_count": 135,
   "id": "fc45f900-10be-4886-b685-60a03e27c936",
   "metadata": {},
   "outputs": [
    {
     "data": {
      "text/latex": [
       "$\\displaystyle \\log{\\left(12 x \\right)} - 3$"
      ],
      "text/plain": [
       "log(12*x) - 3"
      ]
     },
     "metadata": {},
     "output_type": "display_data"
    }
   ],
   "source": [
    "c=display((sp.log(12*x) - 3))"
   ]
  },
  {
   "cell_type": "code",
   "execution_count": 136,
   "id": "e5fbca6f-9a2e-4094-a219-1015348c4188",
   "metadata": {},
   "outputs": [
    {
     "data": {
      "text/latex": [
       "$\\displaystyle \\frac{1}{x}$"
      ],
      "text/plain": [
       "1/x"
      ]
     },
     "metadata": {},
     "output_type": "display_data"
    }
   ],
   "source": [
    "c=display(sp.diff((sp.log(12*x) - 3)))"
   ]
  },
  {
   "cell_type": "code",
   "execution_count": 137,
   "id": "d6905eb0-5a52-4efc-bf08-07f87ef5c1b7",
   "metadata": {},
   "outputs": [
    {
     "data": {
      "text/latex": [
       "$\\displaystyle 2^{x}$"
      ],
      "text/plain": [
       "2**x"
      ]
     },
     "metadata": {},
     "output_type": "display_data"
    }
   ],
   "source": [
    "d=display(2**x)"
   ]
  },
  {
   "cell_type": "code",
   "execution_count": 169,
   "id": "f906966f-dfb8-44b7-9ae4-0c134e88e5e2",
   "metadata": {},
   "outputs": [
    {
     "data": {
      "text/latex": [
       "$\\displaystyle 2^{x} \\log{\\left(2 \\right)}$"
      ],
      "text/plain": [
       "2**x*log(2)"
      ]
     },
     "metadata": {},
     "output_type": "display_data"
    }
   ],
   "source": [
    "d=display(sp.diff(2**x))"
   ]
  },
  {
   "cell_type": "code",
   "execution_count": 139,
   "id": "940366c9-52f6-4c6b-909e-6b88fc06c63f",
   "metadata": {},
   "outputs": [
    {
     "data": {
      "text/latex": [
       "$\\displaystyle e^{3 x + 5}$"
      ],
      "text/plain": [
       "exp(3*x + 5)"
      ]
     },
     "metadata": {},
     "output_type": "display_data"
    }
   ],
   "source": [
    "e=display((sp.exp(3*x + 5)))"
   ]
  },
  {
   "cell_type": "code",
   "execution_count": 140,
   "id": "19355ba6-3c52-41d1-806f-8e234829dac3",
   "metadata": {},
   "outputs": [
    {
     "data": {
      "text/latex": [
       "$\\displaystyle 3 e^{3 x + 5}$"
      ],
      "text/plain": [
       "3*exp(3*x + 5)"
      ]
     },
     "metadata": {},
     "output_type": "display_data"
    }
   ],
   "source": [
    "e=display(sp.diff((sp.exp(3*x + 5))))"
   ]
  },
  {
   "cell_type": "code",
   "execution_count": 143,
   "id": "15d0b855-8b91-4e3d-9b4d-e03dc0d42476",
   "metadata": {},
   "outputs": [
    {
     "data": {
      "text/latex": [
       "$\\displaystyle \\log{\\left(x^{5} + 1 \\right)}$"
      ],
      "text/plain": [
       "log(x**5 + 1)"
      ]
     },
     "metadata": {},
     "output_type": "display_data"
    }
   ],
   "source": [
    "f=display(sp.log(x**5 + 1))"
   ]
  },
  {
   "cell_type": "code",
   "execution_count": 144,
   "id": "041a7a84-2fb7-442f-9400-e4732011d735",
   "metadata": {},
   "outputs": [
    {
     "data": {
      "text/latex": [
       "$\\displaystyle \\frac{5 x^{4}}{x^{5} + 1}$"
      ],
      "text/plain": [
       "5*x**4/(x**5 + 1)"
      ]
     },
     "metadata": {},
     "output_type": "display_data"
    }
   ],
   "source": [
    "f=display(sp.diff(sp.log(x**5 + 1)))"
   ]
  },
  {
   "cell_type": "code",
   "execution_count": 145,
   "id": "3e0ece69-d5a1-4ed5-a19e-e1d8b2819ddb",
   "metadata": {},
   "outputs": [
    {
     "data": {
      "text/latex": [
       "$\\displaystyle e^{4 x^{2} + 8 x}$"
      ],
      "text/plain": [
       "exp(4*x**2 + 8*x)"
      ]
     },
     "metadata": {},
     "output_type": "display_data"
    }
   ],
   "source": [
    "g=display((sp.exp(4*x**2 + 8*x)))"
   ]
  },
  {
   "cell_type": "code",
   "execution_count": 146,
   "id": "33e58c31-fead-4e4a-81bc-03fa96cfd952",
   "metadata": {},
   "outputs": [
    {
     "data": {
      "text/latex": [
       "$\\displaystyle \\left(8 x + 8\\right) e^{4 x^{2} + 8 x}$"
      ],
      "text/plain": [
       "(8*x + 8)*exp(4*x**2 + 8*x)"
      ]
     },
     "metadata": {},
     "output_type": "display_data"
    }
   ],
   "source": [
    "g=display((sp.diff(sp.exp(4*x**2 + 8*x))))"
   ]
  },
  {
   "cell_type": "code",
   "execution_count": 147,
   "id": "f81120ea-5eef-4f3f-9cba-50dc5f3d8103",
   "metadata": {},
   "outputs": [
    {
     "data": {
      "text/latex": [
       "$\\displaystyle \\log{\\left(\\frac{1}{x} \\right)}$"
      ],
      "text/plain": [
       "log(1/x)"
      ]
     },
     "metadata": {},
     "output_type": "display_data"
    }
   ],
   "source": [
    "h=display(sp.log((1/x)))"
   ]
  },
  {
   "cell_type": "code",
   "execution_count": 148,
   "id": "625fdaed-367d-4005-93ba-2d8a99737edd",
   "metadata": {},
   "outputs": [
    {
     "data": {
      "text/latex": [
       "$\\displaystyle - \\frac{1}{x}$"
      ],
      "text/plain": [
       "-1/x"
      ]
     },
     "metadata": {},
     "output_type": "display_data"
    }
   ],
   "source": [
    "h=display(sp.diff((sp.log((1/x)))))"
   ]
  },
  {
   "cell_type": "code",
   "execution_count": 149,
   "id": "b71dd6f5-dda6-478d-896e-744eaddec366",
   "metadata": {},
   "outputs": [
    {
     "data": {
      "text/latex": [
       "$\\displaystyle 3 e^{4 x} + 6 \\log{\\left(x \\right)}$"
      ],
      "text/plain": [
       "3*exp(4*x) + 6*log(x)"
      ]
     },
     "metadata": {},
     "output_type": "display_data"
    }
   ],
   "source": [
    "i=display(6*(sp.log(x)) + 3*sp.exp(4*x))"
   ]
  },
  {
   "cell_type": "code",
   "execution_count": 150,
   "id": "609c3fbb-a371-43d3-bac6-a8e08c692afd",
   "metadata": {},
   "outputs": [
    {
     "data": {
      "text/latex": [
       "$\\displaystyle 12 e^{4 x} + \\frac{6}{x}$"
      ],
      "text/plain": [
       "12*exp(4*x) + 6/x"
      ]
     },
     "metadata": {},
     "output_type": "display_data"
    }
   ],
   "source": [
    "i=display(sp.diff(6*(sp.log(x)) + 3*sp.exp(4*x)))"
   ]
  },
  {
   "cell_type": "code",
   "execution_count": 151,
   "id": "ce000746-bef2-4144-aaaa-f9f53105279c",
   "metadata": {},
   "outputs": [
    {
     "data": {
      "text/latex": [
       "$\\displaystyle x e^{- x}$"
      ],
      "text/plain": [
       "x*exp(-x)"
      ]
     },
     "metadata": {},
     "output_type": "display_data"
    }
   ],
   "source": [
    "j=display(x*sp.exp(-x))"
   ]
  },
  {
   "cell_type": "code",
   "execution_count": 153,
   "id": "3e0e1f3f-a463-4ea1-ac24-6e9772c0da1d",
   "metadata": {},
   "outputs": [
    {
     "data": {
      "text/latex": [
       "$\\displaystyle - x e^{- x} + e^{- x}$"
      ],
      "text/plain": [
       "-x*exp(-x) + exp(-x)"
      ]
     },
     "metadata": {},
     "output_type": "display_data"
    }
   ],
   "source": [
    "j=display(sp.diff((x*sp.exp(-x))))"
   ]
  },
  {
   "cell_type": "code",
   "execution_count": 154,
   "id": "1dc35439-7c06-4e88-8040-058ebe442706",
   "metadata": {},
   "outputs": [
    {
     "data": {
      "text/latex": [
       "$\\displaystyle x^{2} \\log{\\left(x^{2} + 2 \\right)}$"
      ],
      "text/plain": [
       "x**2*log(x**2 + 2)"
      ]
     },
     "metadata": {},
     "output_type": "display_data"
    }
   ],
   "source": [
    "k=display(x**2*sp.log(x**2 + 2))"
   ]
  },
  {
   "cell_type": "code",
   "execution_count": 155,
   "id": "5ce746aa-f1b4-4037-be6c-54c2b756aff3",
   "metadata": {},
   "outputs": [
    {
     "data": {
      "text/latex": [
       "$\\displaystyle \\frac{2 x^{3}}{x^{2} + 2} + 2 x \\log{\\left(x^{2} + 2 \\right)}$"
      ],
      "text/plain": [
       "2*x**3/(x**2 + 2) + 2*x*log(x**2 + 2)"
      ]
     },
     "metadata": {},
     "output_type": "display_data"
    }
   ],
   "source": [
    "k=display(sp.diff((x**2*sp.log(x**2 + 2))))"
   ]
  },
  {
   "cell_type": "code",
   "execution_count": null,
   "id": "75d1f53a-e5ab-42ed-9b67-89658238d706",
   "metadata": {},
   "outputs": [],
   "source": []
  },
  {
   "cell_type": "code",
   "execution_count": null,
   "id": "74272d1c-979d-49b5-8994-60f9a68bccb5",
   "metadata": {},
   "outputs": [],
   "source": [
    "#Oppgave 2:"
   ]
  },
  {
   "cell_type": "code",
   "execution_count": 156,
   "id": "adace1ae-9f8b-483b-ae7d-3a124b1f456d",
   "metadata": {},
   "outputs": [
    {
     "data": {
      "text/latex": [
       "$\\displaystyle x^{3} e^{2 x}$"
      ],
      "text/plain": [
       "x**3*exp(2*x)"
      ]
     },
     "metadata": {},
     "output_type": "display_data"
    }
   ],
   "source": [
    "a=display(x**3*sp.exp(2*x))"
   ]
  },
  {
   "cell_type": "code",
   "execution_count": 157,
   "id": "6100e388-3a96-4ed0-8eae-b5c8f0d3674c",
   "metadata": {},
   "outputs": [
    {
     "data": {
      "text/latex": [
       "$\\displaystyle 2 x^{3} e^{2 x} + 3 x^{2} e^{2 x}$"
      ],
      "text/plain": [
       "2*x**3*exp(2*x) + 3*x**2*exp(2*x)"
      ]
     },
     "metadata": {},
     "output_type": "display_data"
    }
   ],
   "source": [
    "a=display(sp.diff(x**3*sp.exp(2*x)))"
   ]
  },
  {
   "cell_type": "code",
   "execution_count": 158,
   "id": "a802c96f-ee4e-4ca3-b6db-7ebd46045c9b",
   "metadata": {},
   "outputs": [
    {
     "data": {
      "text/latex": [
       "$\\displaystyle \\log{\\left(\\frac{x^{2} - 1}{x^{2} + 1} \\right)}$"
      ],
      "text/plain": [
       "log((x**2 - 1)/(x**2 + 1))"
      ]
     },
     "metadata": {},
     "output_type": "display_data"
    }
   ],
   "source": [
    "b=display(sp.log((x**2 - 1)/(x**2 + 1)))"
   ]
  },
  {
   "cell_type": "code",
   "execution_count": 159,
   "id": "32d5332f-83e0-4a5c-8070-f23f8179d14d",
   "metadata": {},
   "outputs": [
    {
     "data": {
      "text/latex": [
       "$\\displaystyle \\frac{\\left(x^{2} + 1\\right) \\left(- \\frac{2 x \\left(x^{2} - 1\\right)}{\\left(x^{2} + 1\\right)^{2}} + \\frac{2 x}{x^{2} + 1}\\right)}{x^{2} - 1}$"
      ],
      "text/plain": [
       "(x**2 + 1)*(-2*x*(x**2 - 1)/(x**2 + 1)**2 + 2*x/(x**2 + 1))/(x**2 - 1)"
      ]
     },
     "metadata": {},
     "output_type": "display_data"
    }
   ],
   "source": [
    "b=display(sp.diff(sp.log((x**2 - 1)/(x**2 + 1))))"
   ]
  },
  {
   "cell_type": "code",
   "execution_count": 160,
   "id": "7f5fece7-a5d4-4878-975b-cdff8d233995",
   "metadata": {},
   "outputs": [
    {
     "data": {
      "text/latex": [
       "$\\displaystyle x^{2} \\log{\\left(x^{2} + 2 \\right)}$"
      ],
      "text/plain": [
       "x**2*log(x**2 + 2)"
      ]
     },
     "metadata": {},
     "output_type": "display_data"
    }
   ],
   "source": [
    "c=display(x**2*sp.log(x**2 + 2))"
   ]
  },
  {
   "cell_type": "code",
   "execution_count": 161,
   "id": "032c6b6e-7187-47ba-84ce-62625ec68a09",
   "metadata": {},
   "outputs": [
    {
     "data": {
      "text/latex": [
       "$\\displaystyle \\frac{2 x^{3}}{x^{2} + 2} + 2 x \\log{\\left(x^{2} + 2 \\right)}$"
      ],
      "text/plain": [
       "2*x**3/(x**2 + 2) + 2*x*log(x**2 + 2)"
      ]
     },
     "metadata": {},
     "output_type": "display_data"
    }
   ],
   "source": [
    "c=display(sp.diff(x**2*sp.log(x**2 + 2)))"
   ]
  },
  {
   "cell_type": "code",
   "execution_count": 162,
   "id": "6ecf90ba-4b93-4a57-927a-8c6bb04388fc",
   "metadata": {},
   "outputs": [
    {
     "data": {
      "text/latex": [
       "$\\displaystyle \\frac{e^{- x}}{x^{2} + 1}$"
      ],
      "text/plain": [
       "exp(-x)/(x**2 + 1)"
      ]
     },
     "metadata": {},
     "output_type": "display_data"
    }
   ],
   "source": [
    "d=display((sp.exp(-x))/(x**2 + 1))"
   ]
  },
  {
   "cell_type": "code",
   "execution_count": 163,
   "id": "16fbdae9-018a-47c1-9556-7f853088163b",
   "metadata": {},
   "outputs": [
    {
     "data": {
      "text/latex": [
       "$\\displaystyle - \\frac{2 x e^{- x}}{\\left(x^{2} + 1\\right)^{2}} - \\frac{e^{- x}}{x^{2} + 1}$"
      ],
      "text/plain": [
       "-2*x*exp(-x)/(x**2 + 1)**2 - exp(-x)/(x**2 + 1)"
      ]
     },
     "metadata": {},
     "output_type": "display_data"
    }
   ],
   "source": [
    "d=display(sp.diff((sp.exp(-x))/(x**2 + 1)))"
   ]
  }
 ],
 "metadata": {
  "kernelspec": {
   "display_name": "Python 3 (ipykernel)",
   "language": "python",
   "name": "python3"
  },
  "language_info": {
   "codemirror_mode": {
    "name": "ipython",
    "version": 3
   },
   "file_extension": ".py",
   "mimetype": "text/x-python",
   "name": "python",
   "nbconvert_exporter": "python",
   "pygments_lexer": "ipython3",
   "version": "3.9.5"
  }
 },
 "nbformat": 4,
 "nbformat_minor": 5
}
