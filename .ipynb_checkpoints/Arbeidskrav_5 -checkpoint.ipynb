{
 "cells": [
  {
   "cell_type": "code",
   "execution_count": 42,
   "id": "c2e05b3a-d415-495e-827e-25aaec657940",
   "metadata": {},
   "outputs": [],
   "source": [
    "# Modul 15, Oppgave 1a\n",
    "# (1) 2x+ 4y= 6\n",
    "# (2) −2x+y= 4\n"
   ]
  },
  {
   "cell_type": "code",
   "execution_count": 43,
   "id": "0ef0151f-7752-46a3-bb5e-07dfa70f2f11",
   "metadata": {},
   "outputs": [],
   "source": [
    "import sympy as sp\n",
    "x,y=sp.symbols('x y')"
   ]
  },
  {
   "cell_type": "code",
   "execution_count": 44,
   "id": "6be0a33c-9946-455c-a58f-41511dff0aa1",
   "metadata": {},
   "outputs": [
    {
     "data": {
      "text/plain": [
       "{x: -1, y: 2}"
      ]
     },
     "execution_count": 44,
     "metadata": {},
     "output_type": "execute_result"
    }
   ],
   "source": [
    "eq1=sp.Eq(2*x +4*y,6)\n",
    "eq2=sp.Eq(-2*x + y,4)\n",
    "from sympy.solvers import solve\n",
    "sol=solve([eq1,eq2],[x,y])\n",
    "sol"
   ]
  },
  {
   "cell_type": "code",
   "execution_count": 45,
   "id": "2a7956d8-e911-4a71-a56a-a4eedbc792d7",
   "metadata": {},
   "outputs": [
    {
     "data": {
      "text/latex": [
       "$\\displaystyle \\text{True}$"
      ],
      "text/plain": [
       "True"
      ]
     },
     "execution_count": 45,
     "metadata": {},
     "output_type": "execute_result"
    }
   ],
   "source": [
    "#Prøve\n",
    "eq1.subs(sol)\n",
    "eq2.subs(sol)"
   ]
  },
  {
   "cell_type": "code",
   "execution_count": 46,
   "id": "2e03343b-de25-45b7-aa7a-5e5441fbacbb",
   "metadata": {},
   "outputs": [],
   "source": [
    "# Oppgave 1b\n",
    "# 1) 2x−y=−1\n",
    "# 2)x^2+x−y= 1"
   ]
  },
  {
   "cell_type": "code",
   "execution_count": 47,
   "id": "361855d0-84ce-496c-bb4c-edc443a6385e",
   "metadata": {},
   "outputs": [
    {
     "data": {
      "text/plain": [
       "[(-1, -1), (2, 5)]"
      ]
     },
     "execution_count": 47,
     "metadata": {},
     "output_type": "execute_result"
    }
   ],
   "source": [
    "eq1=sp.Eq(2*x - y,-1)\n",
    "eq2=sp.Eq(x**2 + x - y,1)\n",
    "from sympy.solvers import solve\n",
    "sol=solve([eq1,eq2],[x,y])\n",
    "sol"
   ]
  },
  {
   "cell_type": "code",
   "execution_count": 48,
   "id": "83eba350-c1d0-4588-84b0-3e38a1a38b8c",
   "metadata": {},
   "outputs": [
    {
     "ename": "TypeError",
     "evalue": "'Equality' object is not subscriptable",
     "output_type": "error",
     "traceback": [
      "\u001b[0;31m---------------------------------------------------------------------------\u001b[0m",
      "\u001b[0;31mTypeError\u001b[0m                                 Traceback (most recent call last)",
      "\u001b[0;32m/tmp/ipykernel_387784/2713506025.py\u001b[0m in \u001b[0;36m<module>\u001b[0;34m\u001b[0m\n\u001b[1;32m      1\u001b[0m \u001b[0;31m#Prøve\u001b[0m\u001b[0;34m\u001b[0m\u001b[0;34m\u001b[0m\u001b[0;34m\u001b[0m\u001b[0m\n\u001b[0;32m----> 2\u001b[0;31m \u001b[0meq1\u001b[0m\u001b[0;34m.\u001b[0m\u001b[0msubs\u001b[0m\u001b[0;34m(\u001b[0m\u001b[0msol\u001b[0m\u001b[0;34m)\u001b[0m\u001b[0;34m[\u001b[0m\u001b[0;34m-\u001b[0m\u001b[0;36m1\u001b[0m\u001b[0;34m,\u001b[0m \u001b[0;34m-\u001b[0m\u001b[0;36m1\u001b[0m\u001b[0;34m]\u001b[0m\u001b[0;34m\u001b[0m\u001b[0;34m\u001b[0m\u001b[0m\n\u001b[0m\u001b[1;32m      3\u001b[0m \u001b[0meq2\u001b[0m\u001b[0;34m.\u001b[0m\u001b[0msubs\u001b[0m\u001b[0;34m(\u001b[0m\u001b[0msol\u001b[0m\u001b[0;34m)\u001b[0m\u001b[0;34m[\u001b[0m\u001b[0;34m-\u001b[0m\u001b[0;36m1\u001b[0m\u001b[0;34m,\u001b[0m \u001b[0;34m-\u001b[0m\u001b[0;36m1\u001b[0m\u001b[0;34m]\u001b[0m\u001b[0;34m\u001b[0m\u001b[0;34m\u001b[0m\u001b[0m\n",
      "\u001b[0;31mTypeError\u001b[0m: 'Equality' object is not subscriptable"
     ]
    }
   ],
   "source": [
    "#Prøve\n",
    "eq1.subs(sol)[-1, -1]\n",
    "eq2.subs(sol)[-1, -1]"
   ]
  },
  {
   "cell_type": "code",
   "execution_count": 49,
   "id": "f37232cd-ca9a-4309-a20e-314ac56846b0",
   "metadata": {},
   "outputs": [],
   "source": [
    "# Oppgave 2a\n",
    "# (1) 3x−12 =−6y\n",
    "# (2) 4x−8y= 16"
   ]
  },
  {
   "cell_type": "code",
   "execution_count": 50,
   "id": "564a64ca-cd73-4472-ae06-42db05355815",
   "metadata": {},
   "outputs": [
    {
     "data": {
      "text/plain": [
       "{x: 4, y: 0}"
      ]
     },
     "execution_count": 50,
     "metadata": {},
     "output_type": "execute_result"
    }
   ],
   "source": [
    "eq1=sp.Eq(3*x - 12,-6*y)\n",
    "eq2=sp.Eq(4*x - 8*y,16)\n",
    "from sympy.solvers import solve\n",
    "sol=solve([eq1,eq2],[x,y])\n",
    "sol"
   ]
  },
  {
   "cell_type": "code",
   "execution_count": 51,
   "id": "412a7fd9-ed1a-4581-9582-d87234c10ea2",
   "metadata": {},
   "outputs": [
    {
     "data": {
      "text/latex": [
       "$\\displaystyle \\text{True}$"
      ],
      "text/plain": [
       "True"
      ]
     },
     "execution_count": 51,
     "metadata": {},
     "output_type": "execute_result"
    }
   ],
   "source": [
    "#Prøve\n",
    "eq1.subs(sol)\n",
    "eq2.subs(sol)"
   ]
  },
  {
   "cell_type": "code",
   "execution_count": 53,
   "id": "78dfa81f-6026-4b28-991b-d68ac865779d",
   "metadata": {},
   "outputs": [],
   "source": [
    "# Oppgave 2b:\n",
    "# (1) x^2+4x−3 = 3y\n",
    "# (2) 2y= 8−x\n"
   ]
  },
  {
   "cell_type": "code",
   "execution_count": 54,
   "id": "f1790933-bf20-4f31-a2a9-331fcefae2dd",
   "metadata": {},
   "outputs": [
    {
     "data": {
      "text/plain": [
       "[(-15/2, 31/4), (2, 3)]"
      ]
     },
     "execution_count": 54,
     "metadata": {},
     "output_type": "execute_result"
    }
   ],
   "source": [
    "eq1=sp.Eq(x**2 + 4*x -3,3*y )\n",
    "eq2=sp.Eq(2*y,8 - x)\n",
    "from sympy.solvers import solve\n",
    "sol=solve([eq1,eq2],[x,y])\n",
    "sol"
   ]
  },
  {
   "cell_type": "code",
   "execution_count": 29,
   "id": "4b5dfc65-c3d6-412d-b31e-918eea081c23",
   "metadata": {},
   "outputs": [
    {
     "ename": "TypeError",
     "evalue": "'Equality' object is not subscriptable",
     "output_type": "error",
     "traceback": [
      "\u001b[0;31m---------------------------------------------------------------------------\u001b[0m",
      "\u001b[0;31mTypeError\u001b[0m                                 Traceback (most recent call last)",
      "\u001b[0;32m/tmp/ipykernel_387784/2843703134.py\u001b[0m in \u001b[0;36m<module>\u001b[0;34m\u001b[0m\n\u001b[1;32m      1\u001b[0m \u001b[0;31m#Prøve\u001b[0m\u001b[0;34m\u001b[0m\u001b[0;34m\u001b[0m\u001b[0;34m\u001b[0m\u001b[0m\n\u001b[0;32m----> 2\u001b[0;31m \u001b[0meq1\u001b[0m\u001b[0;34m.\u001b[0m\u001b[0msubs\u001b[0m\u001b[0;34m(\u001b[0m\u001b[0msol\u001b[0m\u001b[0;34m)\u001b[0m\u001b[0;34m[\u001b[0m\u001b[0;34m(\u001b[0m\u001b[0;36m2\u001b[0m\u001b[0;34m,\u001b[0m \u001b[0;36m3\u001b[0m\u001b[0;34m)\u001b[0m\u001b[0;34m]\u001b[0m\u001b[0;34m\u001b[0m\u001b[0;34m\u001b[0m\u001b[0m\n\u001b[0m\u001b[1;32m      3\u001b[0m \u001b[0meq2\u001b[0m\u001b[0;34m.\u001b[0m\u001b[0msubs\u001b[0m\u001b[0;34m(\u001b[0m\u001b[0msol\u001b[0m\u001b[0;34m)\u001b[0m\u001b[0;34m[\u001b[0m\u001b[0;34m(\u001b[0m\u001b[0;36m2\u001b[0m\u001b[0;34m,\u001b[0m \u001b[0;36m3\u001b[0m\u001b[0;34m)\u001b[0m\u001b[0;34m]\u001b[0m\u001b[0;34m\u001b[0m\u001b[0;34m\u001b[0m\u001b[0m\n",
      "\u001b[0;31mTypeError\u001b[0m: 'Equality' object is not subscriptable"
     ]
    }
   ],
   "source": [
    "#Prøve\n",
    "eq1.subs(sol)[(2, 3)]\n",
    "eq2.subs(sol)[(2, 3)]"
   ]
  },
  {
   "cell_type": "code",
   "execution_count": 30,
   "id": "18b602f5-ceef-4cd1-9de2-717b3830c10e",
   "metadata": {},
   "outputs": [],
   "source": [
    "# Modul 16\n",
    "# Oppgave 1a:\n",
    "# (1) 4x+ 2y= 12\n",
    "# (2) 6x−2y= 8\n"
   ]
  },
  {
   "cell_type": "code",
   "execution_count": 33,
   "id": "38be9889-53e1-4363-af90-6b37c764c921",
   "metadata": {},
   "outputs": [
    {
     "data": {
      "text/plain": [
       "{x: 2, y: 2}"
      ]
     },
     "execution_count": 33,
     "metadata": {},
     "output_type": "execute_result"
    }
   ],
   "source": [
    "eq1=sp.Eq(4*x +2*y,12 )\n",
    "eq2=sp.Eq(6*x - 2*y,8)\n",
    "sol=solve([eq1,eq2],[x,y])\n",
    "sol"
   ]
  },
  {
   "cell_type": "code",
   "execution_count": 32,
   "id": "cbde2728-6558-43da-9d91-5d198d4d3137",
   "metadata": {},
   "outputs": [
    {
     "data": {
      "text/latex": [
       "$\\displaystyle \\text{True}$"
      ],
      "text/plain": [
       "True"
      ]
     },
     "execution_count": 32,
     "metadata": {},
     "output_type": "execute_result"
    }
   ],
   "source": [
    "# Prøve:\n",
    "eq1.subs(sol)\n",
    "eq2.subs(sol)"
   ]
  },
  {
   "cell_type": "code",
   "execution_count": 35,
   "id": "ed378fc0-37c6-4aa8-9953-7ccc7bcc6023",
   "metadata": {},
   "outputs": [],
   "source": [
    "# Oppgave 1b:\n",
    "# (1) 2x+y^2= 25\n",
    "# (2) x−2y= 10"
   ]
  },
  {
   "cell_type": "code",
   "execution_count": 36,
   "id": "d9588da4-523d-4a64-a85f-5f691cf56409",
   "metadata": {},
   "outputs": [
    {
     "data": {
      "text/plain": [
       "[(0, -5), (12, 1)]"
      ]
     },
     "execution_count": 36,
     "metadata": {},
     "output_type": "execute_result"
    }
   ],
   "source": [
    "eq1=sp.Eq(2*x +y**2,25 )\n",
    "eq2=sp.Eq(x - 2*y,10)\n",
    "sol=solve([eq1,eq2],[x,y])\n",
    "sol"
   ]
  },
  {
   "cell_type": "code",
   "execution_count": null,
   "id": "8fde4529-8b45-440d-bd91-de061eab75fd",
   "metadata": {},
   "outputs": [],
   "source": [
    "# Oppgave 2a:\n",
    "# (1) 4x−4y= 8\n",
    "# (2) 9x−5y= 26 "
   ]
  },
  {
   "cell_type": "code",
   "execution_count": 38,
   "id": "5a8589e7-4aa4-433d-b71a-6d58b40200fe",
   "metadata": {},
   "outputs": [
    {
     "data": {
      "text/plain": [
       "{x: 4, y: 2}"
      ]
     },
     "execution_count": 38,
     "metadata": {},
     "output_type": "execute_result"
    }
   ],
   "source": [
    "eq1=sp.Eq(4*x - 4*y,8)\n",
    "eq2=sp.Eq(9*x - 5*y,26)\n",
    "sol=solve([eq1,eq2],[x,y])\n",
    "sol"
   ]
  },
  {
   "cell_type": "code",
   "execution_count": 39,
   "id": "8bdb8c22-47fa-4cbb-a971-abc6c2160781",
   "metadata": {},
   "outputs": [
    {
     "data": {
      "text/latex": [
       "$\\displaystyle \\text{True}$"
      ],
      "text/plain": [
       "True"
      ]
     },
     "execution_count": 39,
     "metadata": {},
     "output_type": "execute_result"
    }
   ],
   "source": [
    "# Prøve:\n",
    "eq1.subs(sol)\n",
    "eq2.subs(sol)"
   ]
  },
  {
   "cell_type": "code",
   "execution_count": 40,
   "id": "efc763cd-43d8-4e99-9f03-d2a4936bba7d",
   "metadata": {},
   "outputs": [],
   "source": [
    "# Oppgave 2b:\n",
    "# (1) x+2y^2= 15 \n",
    "# (2) x^2−4y^2= 33"
   ]
  },
  {
   "cell_type": "code",
   "execution_count": 41,
   "id": "86e7719d-4523-400f-9079-0f77857ef38d",
   "metadata": {},
   "outputs": [
    {
     "data": {
      "text/plain": [
       "[(-9, -2*sqrt(3)), (-9, 2*sqrt(3)), (7, -2), (7, 2)]"
      ]
     },
     "execution_count": 41,
     "metadata": {},
     "output_type": "execute_result"
    }
   ],
   "source": [
    "eq1=sp.Eq(x + 2*y**2,15)\n",
    "eq2=sp.Eq(x**2 - 4*y**2,33)\n",
    "sol=solve([eq1,eq2],[x,y])\n",
    "sol"
   ]
  },
  {
   "cell_type": "code",
   "execution_count": 55,
   "id": "347ada18-efef-45ef-9117-3c4be6699bca",
   "metadata": {},
   "outputs": [],
   "source": [
    "# Modul 17\n",
    "# Oppgave 1a:\n",
    "# (1) xy^2−x= 0\n",
    "# (2) x+y^2= 16 "
   ]
  },
  {
   "cell_type": "code",
   "execution_count": 56,
   "id": "5c604d22-8b30-4be3-939d-f883766eda97",
   "metadata": {},
   "outputs": [
    {
     "data": {
      "text/plain": [
       "[(0, -4), (0, 4), (15, -1), (15, 1)]"
      ]
     },
     "execution_count": 56,
     "metadata": {},
     "output_type": "execute_result"
    }
   ],
   "source": [
    "eq1=sp.Eq(x*y**2 - x,0)\n",
    "eq2=sp.Eq(x + y**2,16)\n",
    "sol=solve([eq1,eq2],[x,y])\n",
    "sol"
   ]
  },
  {
   "cell_type": "code",
   "execution_count": 58,
   "id": "9cbff47d-e93f-4eb3-899a-8bec6cf5c4e9",
   "metadata": {},
   "outputs": [
    {
     "ename": "TypeError",
     "evalue": "'Equality' object is not subscriptable",
     "output_type": "error",
     "traceback": [
      "\u001b[0;31m---------------------------------------------------------------------------\u001b[0m",
      "\u001b[0;31mTypeError\u001b[0m                                 Traceback (most recent call last)",
      "\u001b[0;32m/tmp/ipykernel_387784/3332825717.py\u001b[0m in \u001b[0;36m<module>\u001b[0;34m\u001b[0m\n\u001b[1;32m      1\u001b[0m \u001b[0;31m# Prøve:\u001b[0m\u001b[0;34m\u001b[0m\u001b[0;34m\u001b[0m\u001b[0;34m\u001b[0m\u001b[0m\n\u001b[0;32m----> 2\u001b[0;31m \u001b[0meq1\u001b[0m\u001b[0;34m.\u001b[0m\u001b[0msubs\u001b[0m\u001b[0;34m(\u001b[0m\u001b[0msol\u001b[0m\u001b[0;34m)\u001b[0m\u001b[0;34m[\u001b[0m\u001b[0;34m{\u001b[0m\u001b[0;36m0\u001b[0m\u001b[0;34m,\u001b[0m \u001b[0;34m-\u001b[0m\u001b[0;36m4\u001b[0m\u001b[0;34m}\u001b[0m\u001b[0;34m]\u001b[0m\u001b[0;34m\u001b[0m\u001b[0;34m\u001b[0m\u001b[0m\n\u001b[0m\u001b[1;32m      3\u001b[0m \u001b[0meq2\u001b[0m\u001b[0;34m.\u001b[0m\u001b[0msubs\u001b[0m\u001b[0;34m(\u001b[0m\u001b[0msol\u001b[0m\u001b[0;34m)\u001b[0m\u001b[0;34m[\u001b[0m\u001b[0;34m{\u001b[0m\u001b[0;36m0\u001b[0m\u001b[0;34m,\u001b[0m \u001b[0;34m-\u001b[0m\u001b[0;36m4\u001b[0m\u001b[0;34m}\u001b[0m\u001b[0;34m]\u001b[0m\u001b[0;34m\u001b[0m\u001b[0;34m\u001b[0m\u001b[0m\n",
      "\u001b[0;31mTypeError\u001b[0m: 'Equality' object is not subscriptable"
     ]
    }
   ],
   "source": [
    "# Prøve:\n",
    "eq1.subs(sol)[{0, -4}]\n",
    "eq2.subs(sol)[{0, -4}]"
   ]
  },
  {
   "cell_type": "code",
   "execution_count": null,
   "id": "44c845a4-e0d1-423d-a3c9-65b3f6d9e837",
   "metadata": {},
   "outputs": [],
   "source": [
    "# Oppgave 1b:\n",
    "# (1) x^2+y^2= 100\n",
    "# (2) x^2y−36y= 0"
   ]
  },
  {
   "cell_type": "code",
   "execution_count": 59,
   "id": "eef807ab-5a50-4173-bb76-b9f78560586e",
   "metadata": {},
   "outputs": [
    {
     "data": {
      "text/plain": [
       "[(-10, 0), (-6, -8), (-6, 8), (6, -8), (6, 8), (10, 0)]"
      ]
     },
     "execution_count": 59,
     "metadata": {},
     "output_type": "execute_result"
    }
   ],
   "source": [
    "eq1=sp.Eq(x**2 +y**2,100)\n",
    "eq2=sp.Eq(x**2*y - 36*y,0)\n",
    "sol=solve([eq1,eq2],[x,y])\n",
    "sol"
   ]
  },
  {
   "cell_type": "code",
   "execution_count": null,
   "id": "e54634e9-0589-4a5f-9fcb-1b3ba25547eb",
   "metadata": {},
   "outputs": [],
   "source": [
    "# Oppgave 2a:\n",
    "# (1) xy^2−49x= 0\n",
    "# (2) x^2+y^2= 58 "
   ]
  },
  {
   "cell_type": "code",
   "execution_count": 60,
   "id": "88f6d216-169f-4f09-9dd4-6c0642cd90f6",
   "metadata": {},
   "outputs": [
    {
     "data": {
      "text/plain": [
       "[(-3, -7), (-3, 7), (0, -sqrt(58)), (0, sqrt(58)), (3, -7), (3, 7)]"
      ]
     },
     "execution_count": 60,
     "metadata": {},
     "output_type": "execute_result"
    }
   ],
   "source": [
    "eq1=sp.Eq(x*y**2 - 49*x,0)\n",
    "eq2=sp.Eq(x**2 + y**2,58)\n",
    "sol=solve([eq1,eq2],[x,y])\n",
    "sol"
   ]
  },
  {
   "cell_type": "code",
   "execution_count": null,
   "id": "c91bd139-4068-4a92-bf60-1cf103d3c7c3",
   "metadata": {},
   "outputs": [],
   "source": [
    "# Oppgave 2b:\n",
    "# (1) x^2+y^2=5/4 \n",
    "# (2) 2xy+y= 0"
   ]
  },
  {
   "cell_type": "code",
   "execution_count": 62,
   "id": "cd73820b-7918-45ee-8b09-bf59544c5a79",
   "metadata": {},
   "outputs": [
    {
     "data": {
      "text/plain": [
       "[(-1.11803398874989, 0.0),\n",
       " (-0.500000000000000, -1.00000000000000),\n",
       " (-0.500000000000000, 1.00000000000000),\n",
       " (1.11803398874989, 0.0)]"
      ]
     },
     "execution_count": 62,
     "metadata": {},
     "output_type": "execute_result"
    }
   ],
   "source": [
    "eq1=sp.Eq(x**2 + y**2,5/4)\n",
    "eq2=sp.Eq(2*x*y + y,0)\n",
    "sol=solve([eq1,eq2],[x,y])\n",
    "sol"
   ]
  },
  {
   "cell_type": "code",
   "execution_count": 63,
   "id": "ee3c3504-1bbe-40ba-87c6-a7c7e63694cf",
   "metadata": {},
   "outputs": [
    {
     "ename": "TypeError",
     "evalue": "'Equality' object is not subscriptable",
     "output_type": "error",
     "traceback": [
      "\u001b[0;31m---------------------------------------------------------------------------\u001b[0m",
      "\u001b[0;31mTypeError\u001b[0m                                 Traceback (most recent call last)",
      "\u001b[0;32m/tmp/ipykernel_387784/3332825717.py\u001b[0m in \u001b[0;36m<module>\u001b[0;34m\u001b[0m\n\u001b[1;32m      1\u001b[0m \u001b[0;31m# Prøve:\u001b[0m\u001b[0;34m\u001b[0m\u001b[0;34m\u001b[0m\u001b[0;34m\u001b[0m\u001b[0m\n\u001b[0;32m----> 2\u001b[0;31m \u001b[0meq1\u001b[0m\u001b[0;34m.\u001b[0m\u001b[0msubs\u001b[0m\u001b[0;34m(\u001b[0m\u001b[0msol\u001b[0m\u001b[0;34m)\u001b[0m\u001b[0;34m[\u001b[0m\u001b[0;34m{\u001b[0m\u001b[0;36m0\u001b[0m\u001b[0;34m,\u001b[0m \u001b[0;34m-\u001b[0m\u001b[0;36m4\u001b[0m\u001b[0;34m}\u001b[0m\u001b[0;34m]\u001b[0m\u001b[0;34m\u001b[0m\u001b[0;34m\u001b[0m\u001b[0m\n\u001b[0m\u001b[1;32m      3\u001b[0m \u001b[0meq2\u001b[0m\u001b[0;34m.\u001b[0m\u001b[0msubs\u001b[0m\u001b[0;34m(\u001b[0m\u001b[0msol\u001b[0m\u001b[0;34m)\u001b[0m\u001b[0;34m[\u001b[0m\u001b[0;34m{\u001b[0m\u001b[0;36m0\u001b[0m\u001b[0;34m,\u001b[0m \u001b[0;34m-\u001b[0m\u001b[0;36m4\u001b[0m\u001b[0;34m}\u001b[0m\u001b[0;34m]\u001b[0m\u001b[0;34m\u001b[0m\u001b[0;34m\u001b[0m\u001b[0m\n",
      "\u001b[0;31mTypeError\u001b[0m: 'Equality' object is not subscriptable"
     ]
    }
   ],
   "source": [
    "# Prøve:\n",
    "eq1.subs(sol)[{0, -4}]\n",
    "eq2.subs(sol)[{0, -4}]"
   ]
  },
  {
   "cell_type": "code",
   "execution_count": 69,
   "id": "4cf99ed3-c30a-4046-b390-c535b48b2f3d",
   "metadata": {},
   "outputs": [
    {
     "data": {
      "text/latex": [
       "$\\displaystyle 5 x^{4}$"
      ],
      "text/plain": [
       "5*x**4"
      ]
     },
     "execution_count": 69,
     "metadata": {},
     "output_type": "execute_result"
    }
   ],
   "source": [
    "# Modul 19:\n",
    "# Oppgave 1\n",
    "a=sp.diff(x**5)\n",
    "a"
   ]
  },
  {
   "cell_type": "code",
   "execution_count": 71,
   "id": "884c2512-4336-446d-83e0-ef53fb9155bf",
   "metadata": {},
   "outputs": [
    {
     "data": {
      "text/latex": [
       "$\\displaystyle 1$"
      ],
      "text/plain": [
       "1"
      ]
     },
     "execution_count": 71,
     "metadata": {},
     "output_type": "execute_result"
    }
   ],
   "source": [
    "b=sp.diff(x + 12)\n",
    "b"
   ]
  },
  {
   "cell_type": "code",
   "execution_count": 72,
   "id": "e5b36e82-7efe-4ee4-b3a9-631db9802681",
   "metadata": {},
   "outputs": [
    {
     "data": {
      "text/latex": [
       "$\\displaystyle 3 x^{2} + 8 x$"
      ],
      "text/plain": [
       "3*x**2 + 8*x"
      ]
     },
     "execution_count": 72,
     "metadata": {},
     "output_type": "execute_result"
    }
   ],
   "source": [
    "c=sp.diff(x**3 +4*x**2)\n",
    "c"
   ]
  },
  {
   "cell_type": "code",
   "execution_count": 73,
   "id": "fcaefd20-6760-477c-a7f3-735665dbf55c",
   "metadata": {},
   "outputs": [
    {
     "data": {
      "text/latex": [
       "$\\displaystyle 6 x^{2}$"
      ],
      "text/plain": [
       "6*x**2"
      ]
     },
     "execution_count": 73,
     "metadata": {},
     "output_type": "execute_result"
    }
   ],
   "source": [
    "d=sp.diff(2*x**3 + 36**0.5)\n",
    "d"
   ]
  },
  {
   "cell_type": "code",
   "execution_count": 74,
   "id": "1f7d5a3c-4bb7-41a1-bb82-760b1ab9e95e",
   "metadata": {},
   "outputs": [
    {
     "data": {
      "text/latex": [
       "$\\displaystyle \\frac{0.5}{x^{0.5}}$"
      ],
      "text/plain": [
       "0.5*x**(-0.5)"
      ]
     },
     "execution_count": 74,
     "metadata": {},
     "output_type": "execute_result"
    }
   ],
   "source": [
    "e=sp.diff(x**0.5 + 5**2)\n",
    "e"
   ]
  },
  {
   "cell_type": "code",
   "execution_count": 75,
   "id": "7106b4c9-b407-4791-8c65-d6447ce953d5",
   "metadata": {},
   "outputs": [
    {
     "data": {
      "text/latex": [
       "$\\displaystyle 3 x^{2} - \\frac{1}{x^{2}}$"
      ],
      "text/plain": [
       "3*x**2 - 1/x**2"
      ]
     },
     "execution_count": 75,
     "metadata": {},
     "output_type": "execute_result"
    }
   ],
   "source": [
    "f=sp.diff(x**3 + 1/x)\n",
    "f"
   ]
  },
  {
   "cell_type": "code",
   "execution_count": 76,
   "id": "73bc220b-8e46-4040-83b1-bc7748aa56fb",
   "metadata": {},
   "outputs": [
    {
     "data": {
      "text/latex": [
       "$\\displaystyle 3 x^{2} - 2 x + 0.25$"
      ],
      "text/plain": [
       "3*x**2 - 2*x + 0.25"
      ]
     },
     "execution_count": 76,
     "metadata": {},
     "output_type": "execute_result"
    }
   ],
   "source": [
    "g=sp.diff(x**3 - x**2 +1/4*x)\n",
    "g"
   ]
  },
  {
   "cell_type": "code",
   "execution_count": null,
   "id": "a6f63de2-306d-4371-a9a0-0733e9b14787",
   "metadata": {},
   "outputs": [],
   "source": [
    "# Oppgave 2"
   ]
  },
  {
   "cell_type": "code",
   "execution_count": 77,
   "id": "eadda171-1e81-44aa-95d7-6b7ca6989b09",
   "metadata": {},
   "outputs": [
    {
     "data": {
      "text/latex": [
       "$\\displaystyle 36 x^{5} - \\frac{1}{x^{2}}$"
      ],
      "text/plain": [
       "36*x**5 - 1/x**2"
      ]
     },
     "execution_count": 77,
     "metadata": {},
     "output_type": "execute_result"
    }
   ],
   "source": [
    "a=sp.diff(1/x + 6*x**6)\n",
    "a"
   ]
  },
  {
   "cell_type": "code",
   "execution_count": 78,
   "id": "1a99f8e9-a738-4968-8588-2a178c96ce52",
   "metadata": {},
   "outputs": [
    {
     "data": {
      "text/latex": [
       "$\\displaystyle 1.5 x^{2} - 1$"
      ],
      "text/plain": [
       "1.5*x**2 - 1"
      ]
     },
     "execution_count": 78,
     "metadata": {},
     "output_type": "execute_result"
    }
   ],
   "source": [
    "b=sp.diff(- x + 1/2*x**3)\n",
    "b"
   ]
  },
  {
   "cell_type": "code",
   "execution_count": 81,
   "id": "87036834-31e0-4ea4-9db0-b7496ef2a30d",
   "metadata": {
    "tags": []
   },
   "outputs": [
    {
     "data": {
      "text/latex": [
       "$\\displaystyle 3 x^{2} + 4 x - 3$"
      ],
      "text/plain": [
       "3*x**2 + 4*x - 3"
      ]
     },
     "execution_count": 81,
     "metadata": {},
     "output_type": "execute_result"
    }
   ],
   "source": [
    "c=sp.diff(x**3 + 2*x**2 -3*x)\n",
    "c"
   ]
  },
  {
   "cell_type": "code",
   "execution_count": null,
   "id": "75739054-c1e6-48eb-a01e-5315b0c874a9",
   "metadata": {},
   "outputs": [],
   "source": [
    "# Modul 20:\n",
    "# Oppgave 1:"
   ]
  },
  {
   "cell_type": "code",
   "execution_count": 87,
   "id": "a55eb327-f360-4523-9b2b-277a3f5bbe2f",
   "metadata": {},
   "outputs": [
    {
     "data": {
      "text/latex": [
       "$\\displaystyle 4.0 x^{3.0}$"
      ],
      "text/plain": [
       "4.0*x**3.0"
      ]
     },
     "execution_count": 87,
     "metadata": {},
     "output_type": "execute_result"
    }
   ],
   "source": [
    "# Jeg skriver om uttrykket:\n",
    "a=sp.diff(x**(12/3))\n",
    "a"
   ]
  },
  {
   "cell_type": "code",
   "execution_count": 96,
   "id": "8211e35b-0d9b-412f-a141-46b4c16854db",
   "metadata": {},
   "outputs": [
    {
     "data": {
      "text/latex": [
       "$\\displaystyle \\left(x^{2} + 4\\right)^{0.5}$"
      ],
      "text/plain": [
       "(x**2 + 4)**0.5"
      ]
     },
     "execution_count": 96,
     "metadata": {},
     "output_type": "execute_result"
    }
   ],
   "source": [
    "# Jeg skriver om uttrykket:\n",
    "b=((x**2 + 4)**0.5)\n",
    "b"
   ]
  },
  {
   "cell_type": "code",
   "execution_count": 97,
   "id": "3dc476cd-19b0-41e3-8b2f-446fb4619ad5",
   "metadata": {},
   "outputs": [
    {
     "data": {
      "text/latex": [
       "$\\displaystyle \\frac{1.0 x}{\\left(x^{2} + 4\\right)^{0.5}}$"
      ],
      "text/plain": [
       "1.0*x*(x**2 + 4)**(-0.5)"
      ]
     },
     "execution_count": 97,
     "metadata": {},
     "output_type": "execute_result"
    }
   ],
   "source": [
    "b=sp.diff((x**2 + 4)**0.5)\n",
    "b"
   ]
  },
  {
   "cell_type": "code",
   "execution_count": null,
   "id": "6905bf72-ff7d-4178-b843-476c52ad768f",
   "metadata": {},
   "outputs": [],
   "source": [
    "# Jeg skriver om uttrykket:\n",
    "c=(x**0.5)\n",
    "c"
   ]
  },
  {
   "cell_type": "code",
   "execution_count": null,
   "id": "fffe5703-ef68-4d62-bb5a-3bb803e46c79",
   "metadata": {},
   "outputs": [],
   "source": [
    "# Jeg skriver om uttrykket:\n",
    "d=sp.diff(x**3 + 2*x**2 -3*x)\n",
    "d"
   ]
  },
  {
   "cell_type": "code",
   "execution_count": null,
   "id": "be23f342-55bb-49cb-888c-544fe333afc9",
   "metadata": {},
   "outputs": [],
   "source": []
  },
  {
   "cell_type": "code",
   "execution_count": null,
   "id": "cd3b5bb4-0071-4100-88c1-0a25d3ba1ce0",
   "metadata": {},
   "outputs": [],
   "source": []
  },
  {
   "cell_type": "code",
   "execution_count": null,
   "id": "81f212e6-7701-470e-915c-91b31eddcb60",
   "metadata": {},
   "outputs": [],
   "source": []
  },
  {
   "cell_type": "code",
   "execution_count": null,
   "id": "5f58cefa-2681-4771-8e64-e406f003965a",
   "metadata": {},
   "outputs": [],
   "source": []
  },
  {
   "cell_type": "code",
   "execution_count": null,
   "id": "e6f7439e-f61e-424e-bca3-c40eff62f66c",
   "metadata": {},
   "outputs": [],
   "source": []
  }
 ],
 "metadata": {
  "kernelspec": {
   "display_name": "Python 3 (ipykernel)",
   "language": "python",
   "name": "python3"
  },
  "language_info": {
   "codemirror_mode": {
    "name": "ipython",
    "version": 3
   },
   "file_extension": ".py",
   "mimetype": "text/x-python",
   "name": "python",
   "nbconvert_exporter": "python",
   "pygments_lexer": "ipython3",
   "version": "3.9.5"
  }
 },
 "nbformat": 4,
 "nbformat_minor": 5
}
