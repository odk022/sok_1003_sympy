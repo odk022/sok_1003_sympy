{
 "cells": [
  {
   "cell_type": "code",
   "execution_count": 2,
   "id": "cc8f5af4-b7c4-4f34-8b86-fd2c81eb6d06",
   "metadata": {},
   "outputs": [],
   "source": [
    "import sympy as sp"
   ]
  },
  {
   "cell_type": "code",
   "execution_count": 33,
   "id": "42f3d225-854a-41b3-bd89-3ec45158aa44",
   "metadata": {},
   "outputs": [],
   "source": [
    "#Sparing med ett beløp:\n",
    "def account_balance(K,r,n):\n",
    "    return K*(1+r)**n\n",
    "# x=innskuddet, r=rente og T antall år"
   ]
  },
  {
   "cell_type": "code",
   "execution_count": 34,
   "id": "6eef2600-4803-422f-9486-5719d72b8920",
   "metadata": {},
   "outputs": [
    {
     "data": {
      "text/plain": [
       "6016.548084227714"
      ]
     },
     "execution_count": 34,
     "metadata": {},
     "output_type": "execute_result"
    }
   ],
   "source": [
    "# Om renten på innskuddet er 5%=0.05 og innskuddet er 2500, så er beløpet om 18 år dermed:\n",
    "account_balance(2500,0.05,18)\n"
   ]
  },
  {
   "cell_type": "code",
   "execution_count": 32,
   "id": "bd82249f-2043-4e2f-b7d2-fd51ffa90379",
   "metadata": {},
   "outputs": [],
   "source": [
    "# Hvor mange år før fordobling når renten er 4,5 % = 0.045\n"
   ]
  },
  {
   "cell_type": "code",
   "execution_count": 36,
   "id": "aead061e-5c17-4150-82e7-a2dcd97a1c6e",
   "metadata": {},
   "outputs": [],
   "source": [
    "#Sparing med flere beløp:\n",
    "def account_balance_2(K,r,n):\n",
    "    return K*(1+r)*(((1+r)**n - 1)/r)\n",
    "\n",
    "# x=innskuddet, r=rente og T antall år"
   ]
  },
  {
   "cell_type": "code",
   "execution_count": 37,
   "id": "303d7db8-b38c-4a98-8184-c751d3b8deb6",
   "metadata": {},
   "outputs": [
    {
     "data": {
      "text/plain": [
       "158481.44594791537"
      ]
     },
     "execution_count": 37,
     "metadata": {},
     "output_type": "execute_result"
    }
   ],
   "source": [
    "account_balance_2(12000,0.05,10)"
   ]
  },
  {
   "cell_type": "code",
   "execution_count": 38,
   "id": "a642218f-3532-4da8-8e8d-d1047bf27363",
   "metadata": {},
   "outputs": [
    {
     "data": {
      "text/plain": [
       "219266.85672578236"
      ]
     },
     "execution_count": 38,
     "metadata": {},
     "output_type": "execute_result"
    }
   ],
   "source": [
    "# Oppgave 1:\n",
    "account_balance_2(15000,0.03,12)"
   ]
  },
  {
   "cell_type": "code",
   "execution_count": 39,
   "id": "19724ca9-a930-480f-923e-36fb75c7ebe8",
   "metadata": {},
   "outputs": [
    {
     "data": {
      "text/plain": [
       "826979.0746604728"
      ]
     },
     "execution_count": 39,
     "metadata": {},
     "output_type": "execute_result"
    }
   ],
   "source": [
    "# Oppgave 2:\n",
    "account_balance_2(20000,0.065,20)"
   ]
  }
 ],
 "metadata": {
  "kernelspec": {
   "display_name": "Python 3 (ipykernel)",
   "language": "python",
   "name": "python3"
  },
  "language_info": {
   "codemirror_mode": {
    "name": "ipython",
    "version": 3
   },
   "file_extension": ".py",
   "mimetype": "text/x-python",
   "name": "python",
   "nbconvert_exporter": "python",
   "pygments_lexer": "ipython3",
   "version": "3.9.5"
  }
 },
 "nbformat": 4,
 "nbformat_minor": 5
}
