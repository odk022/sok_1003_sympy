{
 "cells": [
  {
   "cell_type": "code",
   "execution_count": null,
   "id": "c2e05b3a-d415-495e-827e-25aaec657940",
   "metadata": {},
   "outputs": [],
   "source": [
    "# Oppgave 1a\n",
    "# Løs likningssettene nedenfor ved hjelp av innsettingsssmetoden.\n",
    "# Sett også prøve på svaret.\n",
    "# (1) 2x+ 4y= 6\n",
    "# (2) −2x+y= 4"
   ]
  },
  {
   "cell_type": "code",
   "execution_count": 1,
   "id": "0ef0151f-7752-46a3-bb5e-07dfa70f2f11",
   "metadata": {},
   "outputs": [],
   "source": [
    "import sympy as sp\n",
    "x,y=sp.symbols('x y')"
   ]
  },
  {
   "cell_type": "code",
   "execution_count": 2,
   "id": "6be0a33c-9946-455c-a58f-41511dff0aa1",
   "metadata": {},
   "outputs": [
    {
     "data": {
      "text/latex": [
       "$\\displaystyle 2 x + 4 y = 6$"
      ],
      "text/plain": [
       "Eq(2*x + 4*y, 6)"
      ]
     },
     "execution_count": 2,
     "metadata": {},
     "output_type": "execute_result"
    }
   ],
   "source": [
    "eq1=sp.Eq(2*x +4*y,6)\n",
    "eq1"
   ]
  },
  {
   "cell_type": "code",
   "execution_count": 3,
   "id": "a83eca17-cf54-476f-b9f0-3369c52e7b1b",
   "metadata": {},
   "outputs": [
    {
     "data": {
      "text/latex": [
       "$\\displaystyle - 2 x + y = 4$"
      ],
      "text/plain": [
       "Eq(-2*x + y, 4)"
      ]
     },
     "execution_count": 3,
     "metadata": {},
     "output_type": "execute_result"
    }
   ],
   "source": [
    "eq2=sp.Eq(-2*x + y,4)\n",
    "eq2"
   ]
  },
  {
   "cell_type": "code",
   "execution_count": 11,
   "id": "4cb616f1-d8a7-4cbc-938a-fea5ed70f3b0",
   "metadata": {},
   "outputs": [
    {
     "data": {
      "text/plain": [
       "{x: -1, y: 2}"
      ]
     },
     "execution_count": 11,
     "metadata": {},
     "output_type": "execute_result"
    }
   ],
   "source": [
    "from sympy.solvers import solve\n",
    "sol=solve([eq1,eq2],[x,y])\n",
    "sol"
   ]
  },
  {
   "cell_type": "code",
   "execution_count": 13,
   "id": "2a7956d8-e911-4a71-a56a-a4eedbc792d7",
   "metadata": {},
   "outputs": [
    {
     "data": {
      "text/latex": [
       "$\\displaystyle \\text{True}$"
      ],
      "text/plain": [
       "True"
      ]
     },
     "execution_count": 13,
     "metadata": {},
     "output_type": "execute_result"
    }
   ],
   "source": [
    "#Prøve\n",
    "eq1.subs(sol)\n",
    "eq2.subs(sol)"
   ]
  },
  {
   "cell_type": "code",
   "execution_count": null,
   "id": "2e03343b-de25-45b7-aa7a-5e5441fbacbb",
   "metadata": {},
   "outputs": [],
   "source": []
  },
  {
   "cell_type": "code",
   "execution_count": null,
   "id": "361855d0-84ce-496c-bb4c-edc443a6385e",
   "metadata": {},
   "outputs": [],
   "source": []
  },
  {
   "cell_type": "code",
   "execution_count": null,
   "id": "7240824b-dd41-4d40-8df3-051b6ff1d79e",
   "metadata": {},
   "outputs": [],
   "source": []
  },
  {
   "cell_type": "code",
   "execution_count": null,
   "id": "c32a08e0-b1a3-4877-a9ae-c0e53af60d98",
   "metadata": {},
   "outputs": [],
   "source": [
    "# Oppgave 1b\n",
    "# (1) 2x−y=−1\n",
    "# (2) x**2+x−y= 1"
   ]
  },
  {
   "cell_type": "code",
   "execution_count": null,
   "id": "83eba350-c1d0-4588-84b0-3e38a1a38b8c",
   "metadata": {},
   "outputs": [],
   "source": []
  },
  {
   "cell_type": "code",
   "execution_count": null,
   "id": "e1da3493-e9d7-4478-bbe1-b010ae895559",
   "metadata": {},
   "outputs": [],
   "source": []
  },
  {
   "cell_type": "code",
   "execution_count": null,
   "id": "4b5dfc65-c3d6-412d-b31e-918eea081c23",
   "metadata": {},
   "outputs": [],
   "source": []
  },
  {
   "cell_type": "code",
   "execution_count": null,
   "id": "18b602f5-ceef-4cd1-9de2-717b3830c10e",
   "metadata": {},
   "outputs": [],
   "source": []
  },
  {
   "cell_type": "code",
   "execution_count": null,
   "id": "cd73820b-7918-45ee-8b09-bf59544c5a79",
   "metadata": {},
   "outputs": [],
   "source": []
  }
 ],
 "metadata": {
  "kernelspec": {
   "display_name": "Python 3 (ipykernel)",
   "language": "python",
   "name": "python3"
  },
  "language_info": {
   "codemirror_mode": {
    "name": "ipython",
    "version": 3
   },
   "file_extension": ".py",
   "mimetype": "text/x-python",
   "name": "python",
   "nbconvert_exporter": "python",
   "pygments_lexer": "ipython3",
   "version": "3.9.5"
  }
 },
 "nbformat": 4,
 "nbformat_minor": 5
}
